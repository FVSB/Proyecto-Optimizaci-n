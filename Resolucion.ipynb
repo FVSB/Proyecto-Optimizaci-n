{
 "cells": [
  {
   "cell_type": "markdown",
   "id": "1333b98f15898ec8",
   "metadata": {
    "collapsed": false
   },
   "source": [
    " # Proyecto de  Modelos de Optimización "
   ]
  },
  {
   "cell_type": "markdown",
   "id": "1c959588f06a3b75",
   "metadata": {
    "collapsed": false
   },
   "source": [
    "### Integrantes:\n",
    "- Leonardo Amaro\n",
    "- Alfredo Montero\n",
    "- Antuán Montes de Oca\n",
    "- Francisco Vicente Suárez"
   ]
  },
  {
   "cell_type": "markdown",
   "id": "3271f12ebf9f0ff7",
   "metadata": {
    "collapsed": false
   },
   "source": [
    "En este proyecto, presentamos el análisis de problemas de optimización no lineal. Para ello, hemos seleccionado ciertos métodos basándonos en fundamentos sólidos. Nuestra elección se justifica en la eficacia de estos métodos para resolver problemas complejos de optimización."
   ]
  },
  {
   "cell_type": "markdown",
   "id": "666cb2bf",
   "metadata": {},
   "source": [
    "#### Particularidades comunes de los problemas:\n",
    "- Problemas de Optimización no lineales.\n",
    "- Las restricciones son lineales.\n",
    "- Las restricciones son únicamente con respecto al valor máximo y/o mínimo de cada variable.\n",
    "\n"
   ]
  },
  {
   "cell_type": "markdown",
   "id": "1e5442fb",
   "metadata": {},
   "source": [
    "## Métodos Seleccionados:\n"
   ]
  },
  {
   "cell_type": "markdown",
   "id": "d4e3582b",
   "metadata": {},
   "source": [
    "### Sequential Least Squares Programming:\n",
    "\n",
    "El método Sequential Least Squares Programming (SLSQP) es un método de optimización no lineal versátil y eficiente que se puede aplicar a una amplia gama de problemas, tanto con restricciones como sin restricciones. Es una buena opción para problemas que requieren una combinación de eficiencia y versatilidad. Entre sus bondades se encuentran su versatilidad, eficiencia y facilidad de implementación. Sin embargo, también tiene algunas limitaciones, como no ser tan robusto como otros métodos y requerir la evaluación de la función objetivo y sus derivadas en cada paso del algoritmo de optimización. Algunos casos de uso típicos del SLSQP incluyen la optimización de funciones no lineales con restricciones, la resolución de problemas de programación lineal con restricciones no lineales y la optimización de problemas de ingeniería."
   ]
  },
  {
   "cell_type": "markdown",
   "id": "a0951077",
   "metadata": {},
   "source": [
    "### L-BFGS-B :\n",
    "\n",
    "L-BFGS-B es un método de optimización no lineal que funciona bien en problemas con restricciones. Es una versión modificada del método BFGS que permite incluir restricciones en las variables. Las principales ventajas de este método son que es rápido, eficiente y robusto. El método funciona construyendo una matriz hessiana inversa aproximada, que se utiliza para calcular la dirección de descenso de la función objetivo. La matriz hessiana inversa aproximada se construye utilizando información de la función objetivo y de los puntos de búsqueda anteriores. El proceso se repite hasta que la función objetivo converge a un mínimo. L-BFGS-B es adecuado para problemas no lineales porque no requiere información sobre las derivadas de la función objetivo. También es robusto y eficiente, lo que significa que puede funcionar bien en una amplia gama de problemas."
   ]
  },
  {
   "cell_type": "markdown",
   "id": "9c237a3c",
   "metadata": {},
   "source": [
    "### Nelder-Mead:\n",
    "\n",
    "El método Nelder-Mead es un método de optimización no lineal sin restricciones que utiliza una búsqueda por coordenadas para encontrar el mínimo de una función. Las principales ventajas de este método son que es simple de implementar y puede converger rápidamente a una solución óptima local. El método funciona construyendo un simplex, que es una figura geométrica con N+1 vértices. El simplex se mueve a través del espacio de búsqueda mediante cuatro operaciones básicas: reflexión, expansión, contracción y shrinking. La reflexión mueve el simplex a través del punto más alejado de la función objetivo. La expansión mueve el simplex aún más lejos de este punto. La contracción mueve el simplex hacia el punto más cercano a la función objetivo. El shrinking contrae uniformemente el simplex. El proceso se repite hasta que el simplex converge a un punto que se considera una solución óptima local. Este método es adecuado para problemas no lineales porque no requiere información sobre las derivadas de la función objetivo; lo cual corresponde con el tipo de problemas que estamos analizando. También es robusto y eficiente, lo que significa que puede funcionar bien en una amplia gama de problemas.\n"
   ]
  },
  {
   "cell_type": "markdown",
   "id": "24d100f0",
   "metadata": {},
   "source": [
    "### TR-Newton-CG :\n",
    "\n",
    "Trust-Region Newton-Conjugate-Gradient (TR-Newton-CG) es un método de optimización no lineal poderoso y versátil que combina las fortalezas de los métodos de Newton y de convergencia conjugada. Este método es adecuado para una amplia gama de problemas de optimización, tanto con restricciones como sin restricciones. TR-Newton-CG se basa en el método de Newton, que aprovecha la información de la segunda derivada de la función objetivo para calcular una dirección de descenso efectiva. Sin embargo, el método de Newton puede estancarse en mínimos locales debido a la inexactitud de las derivadas. Para superar este problema, TR-Newton-CG utiliza el método de convergencia conjugada, que es un algoritmo de búsqueda de descenso global que no depende de la información de la segunda derivada. El método TR-Newton-CG establece una región de confianza alrededor del punto actual y utiliza el método de Newton para explorar esta región. Si la búsqueda de Newton encuentra una dirección de descenso favorable, se sigue esta dirección. Si la búsqueda de Newton no encuentra una dirección de descenso significativa, se utiliza el método de convergencia conjugada para explorar la región de confianza de manera global. Este enfoque combina la precisión del método de Newton con la robustez del método de convergencia conjugada, lo que lo convierte en un método de optimización muy eficaz.\n",
    "\n",
    "\n"
   ]
  },
  {
   "cell_type": "code",
   "execution_count": 1,
   "id": "24e42a4e",
   "metadata": {},
   "outputs": [],
   "source": [
    "import numpy as np\n",
    "import time\n",
    "from scipy.optimize import minimize\n",
    "import pandas as pd\n",
    "import helper as hp\n",
    "import functions as fun"
   ]
  },
  {
   "cell_type": "markdown",
   "id": "94c205c3",
   "metadata": {},
   "source": [
    "def optimize(f,x0,bounds,method_name):\n",
    "        start_time = time.perf_counter()\n",
    "        res =  optimize(fun=f, x0=x0, bounds=bounds, method=method_name,options={'gtol': 1e-8}) # call SLSQP \n",
    "        end_time = time.perf_counter()\n",
    "        execution_time_ms = int((end_time - start_time) * 1000)\n",
    "        return get_data(res, execution_time_ms, method_name),method_name\n",
    "        "
   ]
  },
  {
   "cell_type": "code",
   "execution_count": 2,
   "id": "595fc40f",
   "metadata": {},
   "outputs": [],
   "source": [
    "\n",
    "Nelder_Mead=lambda f,x0,bounds:hp.optimizeFun(f,x0,bounds,'Nelder-Mead')\n",
    "SLSQP=lambda f,x0,bounds: hp.optimizeFun(f,x0,bounds,'SLSQP')\n",
    "TR_Newton_CG=lambda f,x0,bounds: hp.optimizeFun(f,x0,bounds,'trust-ncg')  \n",
    "L_BFGS_B=lambda f,x0,bounds:hp.optimizeFun(f,x0,bounds,'L-BFGS-B')\n"
   ]
  },
  {
   "cell_type": "markdown",
   "id": "9115031848ec8c8c",
   "metadata": {
    "collapsed": false
   },
   "source": [
    "## Ejercicio 21"
   ]
  },
  {
   "cell_type": "markdown",
   "id": "a59b604a8f3b71ad",
   "metadata": {
    "collapsed": false
   },
   "source": [
    "#### Box-Betts Quadratic Sum Function"
   ]
  },
  {
   "cell_type": "markdown",
   "id": "35560e0c03394fd4",
   "metadata": {
    "collapsed": false
   },
   "source": [
    "Continua, Diferenciable, No Separable,\n",
    "No Escalable, Multimodal"
   ]
  },
  {
   "cell_type": "markdown",
   "id": "9b1d1627d7c301ba",
   "metadata": {
    "collapsed": false
   },
   "source": [
    "$$\n",
    "f(x)= \\sum_ {i=1}^n g(x)^{2}  \n",
    "\n",
    "$$"
   ]
  },
  {
   "cell_type": "markdown",
   "id": "c0519f57be5b6d15",
   "metadata": {
    "collapsed": false
   },
   "source": [
    "$$\n",
    "g(x)= e^{-0.1*(i+1)x_1}-e^{-0.1*(i+1)x_2}-e^{({(-0.1*(i+1))*-e^{-(i+1)}})x_3}\n",
    "$$\n"
   ]
  },
  {
   "cell_type": "markdown",
   "id": "4125611831bf411d",
   "metadata": {
    "collapsed": false
   },
   "source": [
    "###### sujeto a:"
   ]
  },
  {
   "cell_type": "markdown",
   "id": "37b5f5cf2888c2f5",
   "metadata": {
    "collapsed": false
   },
   "source": [
    "$$\n",
    "0.9 \\leq x_1 \\leq 1.2,\n",
    "9 \\leq x_2 \\leq 11.2,\n",
    "0.9 \\leq x_3 \\leq 1.2\n",
    "\n",
    "\n",
    "$$"
   ]
  },
  {
   "cell_type": "markdown",
   "id": "d95a9492",
   "metadata": {},
   "source": [
    "### Valores iniciales:\n",
    "$(1,1,1)$"
   ]
  },
  {
   "cell_type": "code",
   "execution_count": 3,
   "id": "8e11fb1bb07787a6",
   "metadata": {
    "ExecuteTime": {
     "end_time": "2023-12-09T03:40:29.866184600Z",
     "start_time": "2023-12-09T03:40:29.492855900Z"
    },
    "collapsed": false
   },
   "outputs": [],
   "source": [
    "\n",
    "\n",
    "\n",
    "\n",
    "\n",
    "def Test(fun,min_value,methods=[SLSQP,L_BFGS_B,Nelder_Mead],have_bounds=[True,False,False], d=[10,100,500,1000]):\n",
    "       data=[]\n",
    "       method=[]\n",
    "       for n in d:\n",
    "              print(n)\n",
    "              for i, met in enumerate(methods):\n",
    "                     f=fun(n)\n",
    "                     fx=f.f\n",
    "                     x0=f.x0\n",
    "                     bounds=f.bounds\n",
    "                     if(not have_bounds[i]):\n",
    "                             bounds=None\n",
    "                     data,method=met(f=fx,x0=x0,bounds=bounds)\n",
    "              \n",
    "                     print(method,'\\n')\n",
    "                     print(data,'\\n')\n",
    "                     print(\"*****************************************************************************************\")\n",
    "                     print('\\n')\n",
    "       f=fun(len(min_value))\n",
    "       fx=f.f\n",
    "\n",
    "       print('Fx in the global minimun',fx( min_value ),1000)\n",
    "\n",
    "      \n",
    "\n",
    "\n"
   ]
  },
  {
   "cell_type": "code",
   "execution_count": 4,
   "id": "de8220f7",
   "metadata": {},
   "outputs": [
    {
     "name": "stdout",
     "output_type": "stream",
     "text": [
      "10\n",
      "SLSQP \n",
      "\n",
      "   Variables Result        Optimo  Execution Time\n",
      "0          1.199137  5.431320e-07              17\n",
      "1         10.666128  5.431320e-07              17\n",
      "2          1.200000  5.431320e-07              17 \n",
      "\n",
      "*****************************************************************************************\n",
      "\n",
      "\n",
      "L-BFGS-B \n",
      "\n",
      "   Variables Result    Optimo  Execution Time\n",
      "0         15.636029  0.000001              25\n",
      "1         15.902668  0.000001              25\n",
      "2         18.091616  0.000001              25 \n",
      "\n",
      "*****************************************************************************************\n",
      "\n",
      "\n",
      "Nelder-Mead \n",
      "\n",
      "   Variables Result  Optimo  Execution Time\n",
      "0       2185.053508     0.0              44\n",
      "1       2131.460515     0.0              44\n",
      "2       1865.710315     0.0              44 \n",
      "\n",
      "*****************************************************************************************\n",
      "\n",
      "\n",
      "100\n",
      "SLSQP \n",
      "\n",
      "   Variables Result        Optimo  Execution Time\n",
      "0          1.197570  4.110752e-07              62\n",
      "1         10.684230  4.110752e-07              62\n",
      "2          1.197942  4.110752e-07              62 \n",
      "\n",
      "*****************************************************************************************\n",
      "\n",
      "\n",
      "L-BFGS-B \n",
      "\n",
      "   Variables Result        Optimo  Execution Time\n",
      "0          9.793802  8.818003e-07             164\n",
      "1          9.954679  8.818003e-07             164\n",
      "2         16.389505  8.818003e-07             164 \n",
      "\n",
      "*****************************************************************************************\n",
      "\n",
      "\n",
      "Nelder-Mead \n",
      "\n",
      "   Variables Result  Optimo  Execution Time\n",
      "0       2302.636019     0.0             456\n",
      "1       2302.706898     0.0             456\n",
      "2       3032.951758     0.0             456 \n",
      "\n",
      "*****************************************************************************************\n",
      "\n",
      "\n",
      "500\n",
      "SLSQP \n",
      "\n",
      "   Variables Result        Optimo  Execution Time\n",
      "0          1.197569  4.110811e-07             441\n",
      "1         10.684230  4.110811e-07             441\n",
      "2          1.197942  4.110811e-07             441 \n",
      "\n",
      "*****************************************************************************************\n",
      "\n",
      "\n",
      "L-BFGS-B \n",
      "\n",
      "   Variables Result        Optimo  Execution Time\n",
      "0          7.282978  1.867085e-07             742\n",
      "1          7.303139  1.867085e-07             742\n",
      "2         20.304042  1.867085e-07             742 \n",
      "\n",
      "*****************************************************************************************\n",
      "\n",
      "\n",
      "Nelder-Mead \n",
      "\n",
      "   Variables Result    Optimo  Execution Time\n",
      "0         -0.749000  0.062825            3906\n",
      "1         11.040715  0.062825            3906\n",
      "2         -0.749000  0.062825            3906 \n",
      "\n",
      "*****************************************************************************************\n",
      "\n",
      "\n",
      "1000\n",
      "SLSQP \n",
      "\n",
      "   Variables Result        Optimo  Execution Time\n",
      "0          1.197569  4.110811e-07             856\n",
      "1         10.684230  4.110811e-07             856\n",
      "2          1.197942  4.110811e-07             856 \n",
      "\n",
      "*****************************************************************************************\n",
      "\n",
      "\n",
      "L-BFGS-B \n",
      "\n",
      "   Variables Result        Optimo  Execution Time\n",
      "0          6.453453  4.809824e-07            1367\n",
      "1          6.474669  4.809824e-07            1367\n",
      "2         19.478379  4.809824e-07            1367 \n",
      "\n",
      "*****************************************************************************************\n",
      "\n",
      "\n",
      "Nelder-Mead \n",
      "\n",
      "   Variables Result    Optimo  Execution Time\n",
      "0         -0.606308  0.062724            7216\n",
      "1          9.985245  0.062724            7216\n",
      "2         -0.606308  0.062724            7216 \n",
      "\n",
      "*****************************************************************************************\n",
      "\n",
      "\n",
      "Fx in the global minimun 0.0011957018855143294 1000\n"
     ]
    }
   ],
   "source": [
    "Test(fun.BoxBettsFun,[1,10,1])"
   ]
  },
  {
   "cell_type": "markdown",
   "id": "86168cce41c1f3ac",
   "metadata": {
    "collapsed": false
   },
   "source": [
    "#### Vector Esperado :"
   ]
  },
  {
   "cell_type": "markdown",
   "id": "ed4adacf90496674",
   "metadata": {
    "collapsed": false
   },
   "source": [
    "$$\n",
    "x^* = (1,10,1)\n",
    "$$"
   ]
  },
  {
   "cell_type": "markdown",
   "id": "b6ff2c158950aba7",
   "metadata": {
    "collapsed": false
   },
   "source": [
    "## Ejercicio 34"
   ]
  },
  {
   "cell_type": "markdown",
   "id": "7e4afda8",
   "metadata": {},
   "source": [
    "### Chung Reynolds Function\n"
   ]
  },
  {
   "cell_type": "markdown",
   "id": "a6884197",
   "metadata": {},
   "source": [
    "Continua, Diferenciable, Parcialmente Separable, Escalable, Unimodal"
   ]
  },
  {
   "cell_type": "markdown",
   "id": "aef1cd47",
   "metadata": {},
   "source": [
    "$$\n",
    "f(x) = (\\sum_ {i=1}^n (x_i^2))^2\n",
    "$$"
   ]
  },
  {
   "cell_type": "markdown",
   "id": "433b6dbb",
   "metadata": {},
   "source": [
    "###### sujeto a:"
   ]
  },
  {
   "cell_type": "markdown",
   "id": "bb6a7ee4",
   "metadata": {},
   "source": [
    "$-100 \\leq x_i \\leq 100$"
   ]
  },
  {
   "cell_type": "code",
   "execution_count": 6,
   "id": "14d998ea8260d50c",
   "metadata": {
    "ExecuteTime": {
     "end_time": "2023-12-09T03:41:00.833502200Z",
     "start_time": "2023-12-09T03:41:00.783888Z"
    },
    "collapsed": false
   },
   "outputs": [
    {
     "name": "stdout",
     "output_type": "stream",
     "text": [
      "10\n",
      "SLSQP \n",
      "\n",
      "   Variables Result        Optimo  Execution Time\n",
      "0        -78.468738  1.341970e+10               4\n",
      "1        -53.248569  1.341970e+10               4\n",
      "2         25.509834  1.341970e+10               4\n",
      "3        -67.080589  1.341970e+10               4\n",
      "4         43.872368  1.341970e+10               4\n",
      "5         26.214933  1.341970e+10               4\n",
      "6        -98.324856  1.341970e+10               4\n",
      "7        -12.735278  1.341970e+10               4\n",
      "8        -41.075633  1.341970e+10               4\n",
      "9        -91.435362  1.341970e+10               4 \n",
      "\n",
      "*****************************************************************************************\n",
      "\n",
      "\n",
      "100\n"
     ]
    },
    {
     "name": "stderr",
     "output_type": "stream",
     "text": [
      "c:\\Users\\paco2\\PycharmProjects\\Proyecto Optimización\\venv\\Lib\\site-packages\\scipy\\optimize\\_optimize.py:404: RuntimeWarning: Values in x were outside bounds during a minimize step, clipping to bounds\n",
      "  warnings.warn(\"Values in x were outside bounds during a \"\n"
     ]
    },
    {
     "name": "stdout",
     "output_type": "stream",
     "text": [
      "SLSQP \n",
      "\n",
      "    Variables Result        Optimo  Execution Time\n",
      "0           2.570730  1.613382e+11             349\n",
      "1         -33.739273  1.613382e+11             349\n",
      "2         -25.900641  1.613382e+11             349\n",
      "3          -9.599660  1.613382e+11             349\n",
      "4          -9.354902  1.613382e+11             349\n",
      "..               ...           ...             ...\n",
      "95          7.827697  1.613382e+11             349\n",
      "96          8.316918  1.613382e+11             349\n",
      "97         20.868693  1.613382e+11             349\n",
      "98        -26.637737  1.613382e+11             349\n",
      "99         14.861401  1.613382e+11             349\n",
      "\n",
      "[100 rows x 3 columns] \n",
      "\n",
      "*****************************************************************************************\n",
      "\n",
      "\n",
      "500\n",
      "SLSQP \n",
      "\n",
      "     Variables Result        Optimo  Execution Time\n",
      "0          -23.548274  1.301780e+15           12824\n",
      "1          -57.586420  1.301780e+15           12824\n",
      "2           29.472085  1.301780e+15           12824\n",
      "3           96.159055  1.301780e+15           12824\n",
      "4           33.700000  1.301780e+15           12824\n",
      "..                ...           ...             ...\n",
      "495        -19.433765  1.301780e+15           12824\n",
      "496         48.673005  1.301780e+15           12824\n",
      "497         38.349046  1.301780e+15           12824\n",
      "498          8.730079  1.301780e+15           12824\n",
      "499         57.129418  1.301780e+15           12824\n",
      "\n",
      "[500 rows x 3 columns] \n",
      "\n",
      "*****************************************************************************************\n",
      "\n",
      "\n",
      "1000\n",
      "SLSQP \n",
      "\n",
      "     Variables Result        Optimo  Execution Time\n",
      "0           95.928073  1.160886e+16           84929\n",
      "1           38.187697  1.160886e+16           84929\n",
      "2           39.992033  1.160886e+16           84929\n",
      "3            5.106432  1.160886e+16           84929\n",
      "4          -44.669322  1.160886e+16           84929\n",
      "..                ...           ...             ...\n",
      "995         59.033910  1.160886e+16           84929\n",
      "996        -55.928717  1.160886e+16           84929\n",
      "997        -64.733685  1.160886e+16           84929\n",
      "998         -5.313111  1.160886e+16           84929\n",
      "999        -44.640133  1.160886e+16           84929\n",
      "\n",
      "[1000 rows x 3 columns] \n",
      "\n",
      "*****************************************************************************************\n",
      "\n",
      "\n",
      "Fx in the global minimun 0 1000\n"
     ]
    }
   ],
   "source": [
    "    \n",
    "Test(fun.ChungReynolds,[0,0,0],[SLSQP])"
   ]
  },
  {
   "cell_type": "markdown",
   "id": "beb343f19ba1476b",
   "metadata": {
    "collapsed": false
   },
   "source": [
    "#### Vector Esperado :"
   ]
  },
  {
   "cell_type": "markdown",
   "id": "ac498b3145986e2e",
   "metadata": {
    "collapsed": false
   },
   "source": [
    "$$\n",
    "x^* = (0,0,0)\n",
    "$$"
   ]
  },
  {
   "cell_type": "markdown",
   "id": "c5a283d71c06b035",
   "metadata": {
    "collapsed": false
   },
   "source": [
    "## Ejercicio 24"
   ]
  },
  {
   "cell_type": "markdown",
   "id": "d6027042",
   "metadata": {},
   "source": [
    "### Brent Function"
   ]
  },
  {
   "cell_type": "markdown",
   "id": "a51c7025",
   "metadata": {},
   "source": [
    "#### Continua, Diferenciable, No Separable, No Escalable, Unimodal"
   ]
  },
  {
   "cell_type": "markdown",
   "id": "69a2ace9",
   "metadata": {},
   "source": [
    "$$\n",
    "f(x)= (x_1+10)^2+(x_2+10)^2+e^{-x_1^2-x_2^2}\n",
    "$$"
   ]
  },
  {
   "cell_type": "markdown",
   "id": "9274dee7",
   "metadata": {},
   "source": [
    "###### sujeto a:"
   ]
  },
  {
   "cell_type": "markdown",
   "id": "a08f598b",
   "metadata": {},
   "source": [
    "$$-10 \\leq x_i \\leq 10$$"
   ]
  },
  {
   "cell_type": "code",
   "execution_count": 7,
   "id": "1dc8aa7dfe797090",
   "metadata": {
    "ExecuteTime": {
     "end_time": "2023-12-08T15:36:21.568240900Z",
     "start_time": "2023-12-08T15:36:21.524380Z"
    },
    "collapsed": false
   },
   "outputs": [
    {
     "name": "stdout",
     "output_type": "stream",
     "text": [
      "1\n",
      "SLSQP \n",
      "\n",
      "   Variables Result        Optimo  Execution Time\n",
      "0             -10.0  4.060740e-26               1\n",
      "1             -10.0  4.060740e-26               1 \n",
      "\n",
      "*****************************************************************************************\n",
      "\n",
      "\n",
      "L-BFGS-B \n",
      "\n",
      "   Variables Result        Optimo  Execution Time\n",
      "0             -10.0  1.030572e-16               1\n",
      "1             -10.0  1.030572e-16               1 \n",
      "\n",
      "*****************************************************************************************\n",
      "\n",
      "\n",
      "Nelder-Mead \n",
      "\n",
      "   Variables Result        Optimo  Execution Time\n",
      "0        -10.000055  3.002235e-09               6\n",
      "1        -10.000003  3.002235e-09               6 \n",
      "\n",
      "*****************************************************************************************\n",
      "\n",
      "\n",
      "Fx in the global minimun 201.0 1000\n"
     ]
    }
   ],
   "source": [
    "Test(fun.BrentFunction,[0,0],d=[1])"
   ]
  },
  {
   "cell_type": "markdown",
   "id": "bafef035",
   "metadata": {},
   "source": [
    "#### Valor esperado"
   ]
  },
  {
   "cell_type": "markdown",
   "id": "16246cfa",
   "metadata": {},
   "source": [
    "$$\n",
    "x^* = (0,0,0)\n",
    "$$"
   ]
  },
  {
   "cell_type": "markdown",
   "id": "68d33c45012f5dc",
   "metadata": {
    "collapsed": false
   },
   "source": [
    "## Ejercicio 25"
   ]
  },
  {
   "cell_type": "markdown",
   "id": "a7b2d77c",
   "metadata": {},
   "source": [
    "### Brown Function"
   ]
  },
  {
   "cell_type": "markdown",
   "id": "c1ae4a10",
   "metadata": {},
   "source": [
    "Continua, Diferenciable, No Separabe, Escalable, Unimodal"
   ]
  },
  {
   "cell_type": "markdown",
   "id": "bf3b7c70",
   "metadata": {},
   "source": [
    "$$\n",
    "f(x) = \\sum_ {i=1}^n (x_i^2)^{(x_{i+1}^{2}+1)} +(x_{i+1}^2)^{(x_i^{2}+1)}\n",
    "$$"
   ]
  },
  {
   "cell_type": "markdown",
   "id": "b5e66612",
   "metadata": {},
   "source": [
    "###### sujeto a:"
   ]
  },
  {
   "cell_type": "markdown",
   "id": "0e8d2f86",
   "metadata": {},
   "source": [
    "$$\n",
    "-1 \\leq x_i \\leq 4\n",
    "$$"
   ]
  },
  {
   "cell_type": "code",
   "execution_count": 8,
   "id": "98b154edb7fff49c",
   "metadata": {
    "ExecuteTime": {
     "end_time": "2023-12-08T15:37:39.313402700Z",
     "start_time": "2023-12-08T15:37:37.430892400Z"
    },
    "collapsed": false
   },
   "outputs": [
    {
     "name": "stdout",
     "output_type": "stream",
     "text": [
      "10\n",
      "SLSQP \n",
      "\n",
      "   Variables Result        Optimo  Execution Time\n",
      "0         -0.631719  2.071565e-07              19\n",
      "1         -0.000008  2.071565e-07              19\n",
      "2         -0.000157  2.071565e-07              19\n",
      "3          0.000007  2.071565e-07              19\n",
      "4          0.000050  2.071565e-07              19\n",
      "5          0.000037  2.071565e-07              19\n",
      "6         -0.000073  2.071565e-07              19\n",
      "7          0.000115  2.071565e-07              19\n",
      "8         -0.000235  2.071565e-07              19\n",
      "9         -0.000053  2.071565e-07              19 \n",
      "\n",
      "*****************************************************************************************\n",
      "\n",
      "\n",
      "L-BFGS-B \n",
      "\n",
      "   Variables Result        Optimo  Execution Time\n",
      "0      1.631617e+00  1.929484e-12              18\n",
      "1      2.528203e-07  1.929484e-12              18\n",
      "2     -2.996422e-07  1.929484e-12              18\n",
      "3      1.342225e-07  1.929484e-12              18\n",
      "4      8.022244e-08  1.929484e-12              18\n",
      "5     -8.501431e-07  1.929484e-12              18\n",
      "6     -2.389370e-07  1.929484e-12              18\n",
      "7     -1.682628e-08  1.929484e-12              18\n",
      "8      1.721059e-07  1.929484e-12              18\n",
      "9     -1.327309e-07  1.929484e-12              18 \n",
      "\n",
      "*****************************************************************************************\n",
      "\n",
      "\n",
      "Nelder-Mead \n",
      "\n",
      "   Variables Result    Optimo  Execution Time\n",
      "0         -4.903944  0.000007             217\n",
      "1         -0.000011  0.000007             217\n",
      "2         -0.000066  0.000007             217\n",
      "3          0.000316  0.000007             217\n",
      "4          0.000305  0.000007             217\n",
      "5         -0.000872  0.000007             217\n",
      "6         -0.000441  0.000007             217\n",
      "7          0.000308  0.000007             217\n",
      "8         -0.000028  0.000007             217\n",
      "9         -0.002045  0.000007             217 \n",
      "\n",
      "*****************************************************************************************\n",
      "\n",
      "\n",
      "100\n",
      "SLSQP \n",
      "\n",
      "    Variables Result        Optimo  Execution Time\n",
      "0           3.050171  3.950242e+16              59\n",
      "1           1.599141  3.950242e+16              59\n",
      "2          -0.746411  3.950242e+16              59\n",
      "3           1.945332  3.950242e+16              59\n",
      "4           2.582289  3.950242e+16              59\n",
      "..               ...           ...             ...\n",
      "95          3.114770  3.950242e+16              59\n",
      "96          3.873669  3.950242e+16              59\n",
      "97          1.490018  3.950242e+16              59\n",
      "98          3.869385  3.950242e+16              59\n",
      "99         -0.436613  3.950242e+16              59\n",
      "\n",
      "[100 rows x 3 columns] \n",
      "\n",
      "*****************************************************************************************\n",
      "\n",
      "\n",
      "L-BFGS-B \n",
      "\n",
      "    Variables Result        Optimo  Execution Time\n",
      "0      -6.924778e-01  3.790605e-11            2229\n",
      "1      -4.598500e-06  3.790605e-11            2229\n",
      "2      -1.772877e-07  3.790605e-11            2229\n",
      "3      -9.024110e-08  3.790605e-11            2229\n",
      "4       5.915557e-08  3.790605e-11            2229\n",
      "..               ...           ...             ...\n",
      "95     -1.974119e-08  3.790605e-11            2229\n",
      "96      1.601959e-07  3.790605e-11            2229\n",
      "97     -1.962429e-07  3.790605e-11            2229\n",
      "98      2.503780e-08  3.790605e-11            2229\n",
      "99      3.381061e-06  3.790605e-11            2229\n",
      "\n",
      "[100 rows x 3 columns] \n",
      "\n",
      "*****************************************************************************************\n",
      "\n",
      "\n",
      "Nelder-Mead \n",
      "\n",
      "    Variables Result      Optimo  Execution Time\n",
      "0           3.072866  181.137929            8438\n",
      "1           0.084355  181.137929            8438\n",
      "2           0.219808  181.137929            8438\n",
      "3           0.160650  181.137929            8438\n",
      "4          -0.345868  181.137929            8438\n",
      "..               ...         ...             ...\n",
      "95          0.894078  181.137929            8438\n",
      "96         -0.723955  181.137929            8438\n",
      "97         -0.558108  181.137929            8438\n",
      "98          0.049623  181.137929            8438\n",
      "99          2.051603  181.137929            8438\n",
      "\n",
      "[100 rows x 3 columns] \n",
      "\n",
      "*****************************************************************************************\n",
      "\n",
      "\n",
      "500\n",
      "SLSQP \n",
      "\n",
      "     Variables Result        Optimo  Execution Time\n",
      "0            3.091653  3.259490e+19            4280\n",
      "1            2.713948  3.259490e+19            4280\n",
      "2            1.792462  3.259490e+19            4280\n",
      "3            0.283124  3.259490e+19            4280\n",
      "4            2.924252  3.259490e+19            4280\n",
      "..                ...           ...             ...\n",
      "495         -0.473401  3.259490e+19            4280\n",
      "496          0.697851  3.259490e+19            4280\n",
      "497          0.040659  3.259490e+19            4280\n",
      "498          2.263910  3.259490e+19            4280\n",
      "499          0.388570  3.259490e+19            4280\n",
      "\n",
      "[500 rows x 3 columns] \n",
      "\n",
      "*****************************************************************************************\n",
      "\n",
      "\n",
      "L-BFGS-B \n",
      "\n",
      "     Variables Result        Optimo  Execution Time\n",
      "0            2.733404  2.229205e+09           23085\n",
      "1            0.615745  2.229205e+09           23085\n",
      "2            0.620447  2.229205e+09           23085\n",
      "3            1.903355  2.229205e+09           23085\n",
      "4            2.737116  2.229205e+09           23085\n",
      "..                ...           ...             ...\n",
      "495          2.212536  2.229205e+09           23085\n",
      "496          2.836979  2.229205e+09           23085\n",
      "497          2.239348  2.229205e+09           23085\n",
      "498          0.836483  2.229205e+09           23085\n",
      "499         -0.289035  2.229205e+09           23085\n",
      "\n",
      "[500 rows x 3 columns] \n",
      "\n",
      "*****************************************************************************************\n",
      "\n",
      "\n"
     ]
    },
    {
     "ename": "KeyboardInterrupt",
     "evalue": "",
     "output_type": "error",
     "traceback": [
      "\u001b[1;31m---------------------------------------------------------------------------\u001b[0m",
      "\u001b[1;31mKeyboardInterrupt\u001b[0m                         Traceback (most recent call last)",
      "Cell \u001b[1;32mIn[8], line 1\u001b[0m\n\u001b[1;32m----> 1\u001b[0m \u001b[43mTest\u001b[49m\u001b[43m(\u001b[49m\u001b[43mfun\u001b[49m\u001b[38;5;241;43m.\u001b[39;49m\u001b[43mBrownFunction\u001b[49m\u001b[43m,\u001b[49m\u001b[43m[\u001b[49m\u001b[38;5;241;43m0\u001b[39;49m\u001b[43m \u001b[49m\u001b[38;5;28;43;01mfor\u001b[39;49;00m\u001b[43m \u001b[49m\u001b[43m_\u001b[49m\u001b[43m \u001b[49m\u001b[38;5;129;43;01min\u001b[39;49;00m\u001b[43m \u001b[49m\u001b[38;5;28;43mrange\u001b[39;49m\u001b[43m(\u001b[49m\u001b[38;5;241;43m10\u001b[39;49m\u001b[43m)\u001b[49m\u001b[43m]\u001b[49m\u001b[43m)\u001b[49m\n",
      "Cell \u001b[1;32mIn[3], line 13\u001b[0m, in \u001b[0;36mTest\u001b[1;34m(fun, min_value, methods, have_bounds, d)\u001b[0m\n\u001b[0;32m     11\u001b[0m \u001b[38;5;28;01mif\u001b[39;00m(\u001b[38;5;129;01mnot\u001b[39;00m have_bounds[i]):\n\u001b[0;32m     12\u001b[0m         bounds\u001b[38;5;241m=\u001b[39m\u001b[38;5;28;01mNone\u001b[39;00m\n\u001b[1;32m---> 13\u001b[0m data,method\u001b[38;5;241m=\u001b[39m\u001b[43mmet\u001b[49m\u001b[43m(\u001b[49m\u001b[43mf\u001b[49m\u001b[38;5;241;43m=\u001b[39;49m\u001b[43mfx\u001b[49m\u001b[43m,\u001b[49m\u001b[43mx0\u001b[49m\u001b[38;5;241;43m=\u001b[39;49m\u001b[43mx0\u001b[49m\u001b[43m,\u001b[49m\u001b[43mbounds\u001b[49m\u001b[38;5;241;43m=\u001b[39;49m\u001b[43mbounds\u001b[49m\u001b[43m)\u001b[49m\n\u001b[0;32m     15\u001b[0m \u001b[38;5;28mprint\u001b[39m(method,\u001b[38;5;124m'\u001b[39m\u001b[38;5;130;01m\\n\u001b[39;00m\u001b[38;5;124m'\u001b[39m)\n\u001b[0;32m     16\u001b[0m \u001b[38;5;28mprint\u001b[39m(data,\u001b[38;5;124m'\u001b[39m\u001b[38;5;130;01m\\n\u001b[39;00m\u001b[38;5;124m'\u001b[39m)\n",
      "Cell \u001b[1;32mIn[2], line 1\u001b[0m, in \u001b[0;36m<lambda>\u001b[1;34m(f, x0, bounds)\u001b[0m\n\u001b[1;32m----> 1\u001b[0m Nelder_Mead\u001b[38;5;241m=\u001b[39m\u001b[38;5;28;01mlambda\u001b[39;00m f,x0,bounds:\u001b[43mhp\u001b[49m\u001b[38;5;241;43m.\u001b[39;49m\u001b[43moptimizeFun\u001b[49m\u001b[43m(\u001b[49m\u001b[43mf\u001b[49m\u001b[43m,\u001b[49m\u001b[43mx0\u001b[49m\u001b[43m,\u001b[49m\u001b[43mbounds\u001b[49m\u001b[43m,\u001b[49m\u001b[38;5;124;43m'\u001b[39;49m\u001b[38;5;124;43mNelder-Mead\u001b[39;49m\u001b[38;5;124;43m'\u001b[39;49m\u001b[43m)\u001b[49m\n\u001b[0;32m      2\u001b[0m SLSQP\u001b[38;5;241m=\u001b[39m\u001b[38;5;28;01mlambda\u001b[39;00m f,x0,bounds: hp\u001b[38;5;241m.\u001b[39moptimizeFun(f,x0,bounds,\u001b[38;5;124m'\u001b[39m\u001b[38;5;124mSLSQP\u001b[39m\u001b[38;5;124m'\u001b[39m)\n\u001b[0;32m      3\u001b[0m TR_Newton_CG\u001b[38;5;241m=\u001b[39m\u001b[38;5;28;01mlambda\u001b[39;00m f,x0,bounds: hp\u001b[38;5;241m.\u001b[39moptimizeFun(f,x0,bounds,\u001b[38;5;124m'\u001b[39m\u001b[38;5;124mtrust-ncg\u001b[39m\u001b[38;5;124m'\u001b[39m)  \n",
      "File \u001b[1;32mc:\\Users\\paco2\\PycharmProjects\\Proyecto Optimización\\helper.py:20\u001b[0m, in \u001b[0;36moptimizeFun\u001b[1;34m(f, x0, bounds, method_name)\u001b[0m\n\u001b[0;32m     18\u001b[0m \u001b[38;5;28;01mdef\u001b[39;00m \u001b[38;5;21moptimizeFun\u001b[39m(f,x0,bounds,method_name):\n\u001b[0;32m     19\u001b[0m         start_time \u001b[38;5;241m=\u001b[39m time\u001b[38;5;241m.\u001b[39mperf_counter()\n\u001b[1;32m---> 20\u001b[0m         res \u001b[38;5;241m=\u001b[39m  \u001b[43mminimize\u001b[49m\u001b[43m(\u001b[49m\u001b[43mfun\u001b[49m\u001b[38;5;241;43m=\u001b[39;49m\u001b[43mf\u001b[49m\u001b[43m,\u001b[49m\u001b[43m \u001b[49m\u001b[43mx0\u001b[49m\u001b[38;5;241;43m=\u001b[39;49m\u001b[43mx0\u001b[49m\u001b[43m,\u001b[49m\u001b[43m \u001b[49m\u001b[43mbounds\u001b[49m\u001b[38;5;241;43m=\u001b[39;49m\u001b[43mbounds\u001b[49m\u001b[43m,\u001b[49m\u001b[43m \u001b[49m\u001b[43mmethod\u001b[49m\u001b[38;5;241;43m=\u001b[39;49m\u001b[43mmethod_name\u001b[49m\u001b[43m)\u001b[49m \n\u001b[0;32m     21\u001b[0m         end_time \u001b[38;5;241m=\u001b[39m time\u001b[38;5;241m.\u001b[39mperf_counter()\n\u001b[0;32m     22\u001b[0m         execution_time_ms \u001b[38;5;241m=\u001b[39m \u001b[38;5;28mint\u001b[39m((end_time \u001b[38;5;241m-\u001b[39m start_time) \u001b[38;5;241m*\u001b[39m \u001b[38;5;241m1000\u001b[39m)\n",
      "File \u001b[1;32mc:\\Users\\paco2\\PycharmProjects\\Proyecto Optimización\\venv\\Lib\\site-packages\\scipy\\optimize\\_minimize.py:698\u001b[0m, in \u001b[0;36mminimize\u001b[1;34m(fun, x0, args, method, jac, hess, hessp, bounds, constraints, tol, callback, options)\u001b[0m\n\u001b[0;32m    695\u001b[0m callback \u001b[38;5;241m=\u001b[39m _wrap_callback(callback, meth)\n\u001b[0;32m    697\u001b[0m \u001b[38;5;28;01mif\u001b[39;00m meth \u001b[38;5;241m==\u001b[39m \u001b[38;5;124m'\u001b[39m\u001b[38;5;124mnelder-mead\u001b[39m\u001b[38;5;124m'\u001b[39m:\n\u001b[1;32m--> 698\u001b[0m     res \u001b[38;5;241m=\u001b[39m \u001b[43m_minimize_neldermead\u001b[49m\u001b[43m(\u001b[49m\u001b[43mfun\u001b[49m\u001b[43m,\u001b[49m\u001b[43m \u001b[49m\u001b[43mx0\u001b[49m\u001b[43m,\u001b[49m\u001b[43m \u001b[49m\u001b[43margs\u001b[49m\u001b[43m,\u001b[49m\u001b[43m \u001b[49m\u001b[43mcallback\u001b[49m\u001b[43m,\u001b[49m\u001b[43m \u001b[49m\u001b[43mbounds\u001b[49m\u001b[38;5;241;43m=\u001b[39;49m\u001b[43mbounds\u001b[49m\u001b[43m,\u001b[49m\n\u001b[0;32m    699\u001b[0m \u001b[43m                               \u001b[49m\u001b[38;5;241;43m*\u001b[39;49m\u001b[38;5;241;43m*\u001b[39;49m\u001b[43moptions\u001b[49m\u001b[43m)\u001b[49m\n\u001b[0;32m    700\u001b[0m \u001b[38;5;28;01melif\u001b[39;00m meth \u001b[38;5;241m==\u001b[39m \u001b[38;5;124m'\u001b[39m\u001b[38;5;124mpowell\u001b[39m\u001b[38;5;124m'\u001b[39m:\n\u001b[0;32m    701\u001b[0m     res \u001b[38;5;241m=\u001b[39m _minimize_powell(fun, x0, args, callback, bounds, \u001b[38;5;241m*\u001b[39m\u001b[38;5;241m*\u001b[39moptions)\n",
      "File \u001b[1;32mc:\\Users\\paco2\\PycharmProjects\\Proyecto Optimización\\venv\\Lib\\site-packages\\scipy\\optimize\\_optimize.py:980\u001b[0m, in \u001b[0;36m_minimize_neldermead\u001b[1;34m(func, x0, args, callback, maxiter, maxfev, disp, return_all, initial_simplex, xatol, fatol, adaptive, bounds, **unknown_options)\u001b[0m\n\u001b[0;32m    978\u001b[0m     \u001b[38;5;28;01mpass\u001b[39;00m\n\u001b[0;32m    979\u001b[0m \u001b[38;5;28;01mfinally\u001b[39;00m:\n\u001b[1;32m--> 980\u001b[0m     ind \u001b[38;5;241m=\u001b[39m \u001b[43mnp\u001b[49m\u001b[38;5;241;43m.\u001b[39;49m\u001b[43margsort\u001b[49m\u001b[43m(\u001b[49m\u001b[43mfsim\u001b[49m\u001b[43m)\u001b[49m\n\u001b[0;32m    981\u001b[0m     sim \u001b[38;5;241m=\u001b[39m np\u001b[38;5;241m.\u001b[39mtake(sim, ind, \u001b[38;5;241m0\u001b[39m)\n\u001b[0;32m    982\u001b[0m     fsim \u001b[38;5;241m=\u001b[39m np\u001b[38;5;241m.\u001b[39mtake(fsim, ind, \u001b[38;5;241m0\u001b[39m)\n",
      "File \u001b[1;32mc:\\Users\\paco2\\PycharmProjects\\Proyecto Optimización\\venv\\Lib\\site-packages\\numpy\\core\\fromnumeric.py:1133\u001b[0m, in \u001b[0;36margsort\u001b[1;34m(a, axis, kind, order)\u001b[0m\n\u001b[0;32m   1025\u001b[0m \u001b[38;5;129m@array_function_dispatch\u001b[39m(_argsort_dispatcher)\n\u001b[0;32m   1026\u001b[0m \u001b[38;5;28;01mdef\u001b[39;00m \u001b[38;5;21margsort\u001b[39m(a, axis\u001b[38;5;241m=\u001b[39m\u001b[38;5;241m-\u001b[39m\u001b[38;5;241m1\u001b[39m, kind\u001b[38;5;241m=\u001b[39m\u001b[38;5;28;01mNone\u001b[39;00m, order\u001b[38;5;241m=\u001b[39m\u001b[38;5;28;01mNone\u001b[39;00m):\n\u001b[0;32m   1027\u001b[0m \u001b[38;5;250m    \u001b[39m\u001b[38;5;124;03m\"\"\"\u001b[39;00m\n\u001b[0;32m   1028\u001b[0m \u001b[38;5;124;03m    Returns the indices that would sort an array.\u001b[39;00m\n\u001b[0;32m   1029\u001b[0m \n\u001b[1;32m   (...)\u001b[0m\n\u001b[0;32m   1131\u001b[0m \n\u001b[0;32m   1132\u001b[0m \u001b[38;5;124;03m    \"\"\"\u001b[39;00m\n\u001b[1;32m-> 1133\u001b[0m     \u001b[38;5;28;01mreturn\u001b[39;00m \u001b[43m_wrapfunc\u001b[49m\u001b[43m(\u001b[49m\u001b[43ma\u001b[49m\u001b[43m,\u001b[49m\u001b[43m \u001b[49m\u001b[38;5;124;43m'\u001b[39;49m\u001b[38;5;124;43margsort\u001b[39;49m\u001b[38;5;124;43m'\u001b[39;49m\u001b[43m,\u001b[49m\u001b[43m \u001b[49m\u001b[43maxis\u001b[49m\u001b[38;5;241;43m=\u001b[39;49m\u001b[43maxis\u001b[49m\u001b[43m,\u001b[49m\u001b[43m \u001b[49m\u001b[43mkind\u001b[49m\u001b[38;5;241;43m=\u001b[39;49m\u001b[43mkind\u001b[49m\u001b[43m,\u001b[49m\u001b[43m \u001b[49m\u001b[43morder\u001b[49m\u001b[38;5;241;43m=\u001b[39;49m\u001b[43morder\u001b[49m\u001b[43m)\u001b[49m\n",
      "File \u001b[1;32mc:\\Users\\paco2\\PycharmProjects\\Proyecto Optimización\\venv\\Lib\\site-packages\\numpy\\core\\fromnumeric.py:59\u001b[0m, in \u001b[0;36m_wrapfunc\u001b[1;34m(obj, method, *args, **kwds)\u001b[0m\n\u001b[0;32m     56\u001b[0m     \u001b[38;5;28;01mreturn\u001b[39;00m _wrapit(obj, method, \u001b[38;5;241m*\u001b[39margs, \u001b[38;5;241m*\u001b[39m\u001b[38;5;241m*\u001b[39mkwds)\n\u001b[0;32m     58\u001b[0m \u001b[38;5;28;01mtry\u001b[39;00m:\n\u001b[1;32m---> 59\u001b[0m     \u001b[38;5;28;01mreturn\u001b[39;00m \u001b[43mbound\u001b[49m\u001b[43m(\u001b[49m\u001b[38;5;241;43m*\u001b[39;49m\u001b[43margs\u001b[49m\u001b[43m,\u001b[49m\u001b[43m \u001b[49m\u001b[38;5;241;43m*\u001b[39;49m\u001b[38;5;241;43m*\u001b[39;49m\u001b[43mkwds\u001b[49m\u001b[43m)\u001b[49m\n\u001b[0;32m     60\u001b[0m \u001b[38;5;28;01mexcept\u001b[39;00m \u001b[38;5;167;01mTypeError\u001b[39;00m:\n\u001b[0;32m     61\u001b[0m     \u001b[38;5;66;03m# A TypeError occurs if the object does have such a method in its\u001b[39;00m\n\u001b[0;32m     62\u001b[0m     \u001b[38;5;66;03m# class, but its signature is not identical to that of NumPy's. This\u001b[39;00m\n\u001b[1;32m   (...)\u001b[0m\n\u001b[0;32m     66\u001b[0m     \u001b[38;5;66;03m# Call _wrapit from within the except clause to ensure a potential\u001b[39;00m\n\u001b[0;32m     67\u001b[0m     \u001b[38;5;66;03m# exception has a traceback chain.\u001b[39;00m\n\u001b[0;32m     68\u001b[0m     \u001b[38;5;28;01mreturn\u001b[39;00m _wrapit(obj, method, \u001b[38;5;241m*\u001b[39margs, \u001b[38;5;241m*\u001b[39m\u001b[38;5;241m*\u001b[39mkwds)\n",
      "\u001b[1;31mKeyboardInterrupt\u001b[0m: "
     ]
    }
   ],
   "source": [
    "Test(fun.BrownFunction,[0 for _ in range(10)])"
   ]
  },
  {
   "cell_type": "markdown",
   "id": "63f5f53c",
   "metadata": {},
   "source": [
    "###### Valor esperado:"
   ]
  },
  {
   "cell_type": "markdown",
   "id": "7f56f721",
   "metadata": {},
   "source": [
    "$$\n",
    "x^{*}=(0,0,....,0)\n",
    "$$"
   ]
  },
  {
   "cell_type": "markdown",
   "id": "ae110328",
   "metadata": {},
   "source": [
    "El número de iteraciones es de nit=4 lo cual es lo suficientemente aceptable dado la región a empezar. Encontró el minimo global."
   ]
  }
 ],
 "metadata": {
  "kernelspec": {
   "display_name": "Python 3",
   "language": "python",
   "name": "python3"
  },
  "language_info": {
   "codemirror_mode": {
    "name": "ipython",
    "version": 3
   },
   "file_extension": ".py",
   "mimetype": "text/x-python",
   "name": "python",
   "nbconvert_exporter": "python",
   "pygments_lexer": "ipython3",
   "version": "3.11.7"
  }
 },
 "nbformat": 4,
 "nbformat_minor": 5
}
