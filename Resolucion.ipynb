{
 "cells": [
  {
   "cell_type": "markdown",
   "id": "1333b98f15898ec8",
   "metadata": {
    "collapsed": false
   },
   "source": [
    " # Proyecto de  Modelos de Optimización "
   ]
  },
  {
   "cell_type": "markdown",
   "id": "1c959588f06a3b75",
   "metadata": {
    "collapsed": false
   },
   "source": [
    "### Integrantes:\n",
    "- Leonardo Amaro\n",
    "- Alfredo Montero\n",
    "- Antuán Montes de Oca\n",
    "- Francisco Vicente Suárez"
   ]
  },
  {
   "cell_type": "markdown",
   "id": "3271f12ebf9f0ff7",
   "metadata": {
    "collapsed": false
   },
   "source": [
    "En este proyecto, presentamos el análisis de problemas de optimización no lineal. Para ello, hemos seleccionado ciertos métodos basándonos en fundamentos sólidos. Nuestra elección se justifica en la eficacia de estos métodos para resolver problemas complejos de optimización."
   ]
  },
  {
   "cell_type": "markdown",
   "id": "666cb2bf",
   "metadata": {},
   "source": [
    "#### Particularidades comunes de los problemas:\n",
    "- Problemas de Optimización no lineales.\n",
    "- Las restricciones son lineales.\n",
    "- Las restricciones son únicamente con respecto al valor máximo y/o mínimo de cada variable.\n",
    "\n"
   ]
  },
  {
   "cell_type": "markdown",
   "id": "1e5442fb",
   "metadata": {},
   "source": [
    "## Métodos Seleccionados:\n"
   ]
  },
  {
   "cell_type": "markdown",
   "id": "d4e3582b",
   "metadata": {},
   "source": [
    "### Sequential Least Squares Programming:\n",
    "\n",
    "El método Sequential Least Squares Programming (SLSQP) es un método de optimización no lineal versátil y eficiente que se puede aplicar a una amplia gama de problemas, tanto con restricciones como sin restricciones. Es una buena opción para problemas que requieren una combinación de eficiencia y versatilidad. Entre sus bondades se encuentran su versatilidad, eficiencia y facilidad de implementación. Sin embargo, también tiene algunas limitaciones, como no ser tan robusto como otros métodos y requerir la evaluación de la función objetivo y sus derivadas en cada paso del algoritmo de optimización. Algunos casos de uso típicos del SLSQP incluyen la optimización de funciones no lineales con restricciones, la resolución de problemas de programación lineal con restricciones no lineales y la optimización de problemas de ingeniería.\n"
   ]
  },
  {
   "cell_type": "markdown",
   "id": "a0951077",
   "metadata": {},
   "source": [
    "### L-BFGS-B :\n",
    "\n",
    "L-BFGS-B es un método de optimización no lineal que funciona bien en problemas con restricciones simples (del tipo $l_i \\leq x_i \\leq u_i$, siendo $l_i$ y $u_i$ límites inferiores y superiores respectivamente. Es una versión modificada del método BFGS que permite incluir restricciones en las variables. Las principales ventajas de este método son que es rápido, eficiente y robusto. El método funciona construyendo una matriz hessiana inversa aproximada, que se utiliza para calcular la dirección de descenso de la función objetivo. La matriz hessiana inversa aproximada se construye utilizando información de la función objetivo y de los puntos de búsqueda anteriores. El proceso se repite hasta que la función objetivo converge a un mínimo. L-BFGS-B es adecuado para problemas no lineales porque no requiere información sobre las derivadas de la función objetivo. También es robusto y eficiente, lo que significa que puede funcionar bien en una amplia gama de problemas.\n",
    "\n",
    "Se utiliza para realizar una comparación con respeto a SLSQP (dado que nuestros problemas cumplen con sus hipótesis) dado que en este se busca aproximaciones que en teoría deben de disminuir la cantidad de pasos así como los requerimientos de cómputo"
   ]
  },
  {
   "cell_type": "markdown",
   "id": "9c237a3c",
   "metadata": {},
   "source": [
    "### Nelder-Mead:\n",
    "\n",
    "El método Nelder-Mead es un método de optimización no lineal sin restricciones que utiliza una búsqueda por coordenadas para encontrar el mínimo de una función. Las principales ventajas de este método son que es simple de implementar y puede converger rápidamente a una solución óptima local. El método funciona construyendo un simplex, que es una figura geométrica con N+1 vértices. El simplex se mueve a través del espacio de búsqueda mediante cuatro operaciones básicas: reflexión, expansión, contracción y shrinking. La reflexión mueve el simplex a través del punto más alejado de la función objetivo. La expansión mueve el simplex aún más lejos de este punto. La contracción mueve el simplex hacia el punto más cercano a la función objetivo. El shrinking contrae uniformemente el simplex. El proceso se repite hasta que el simplex converge a un punto que se considera una solución óptima local. Este método es adecuado para problemas no lineales porque no requiere información sobre las derivadas de la función objetivo; lo cual corresponde con el tipo de problemas que estamos analizando. También es robusto y eficiente, lo que significa que puede funcionar bien en una amplia gama de problemas.\n",
    "\n",
    "Este es utilizado en este caso para hacer la comparación al realizar una transformación de cada  problema a uno sin restricciones.\n"
   ]
  },
  {
   "cell_type": "code",
   "execution_count": 2,
   "id": "24e42a4e",
   "metadata": {},
   "outputs": [],
   "source": [
    "from helper import Test\n",
    "import helper as hp\n",
    "import functions as fun"
   ]
  },
  {
   "cell_type": "code",
   "execution_count": 3,
   "id": "595fc40f",
   "metadata": {},
   "outputs": [],
   "source": [
    "\n",
    "Nelder_Mead=lambda f,x0,bounds,n,e:hp.optimizeFun(f=f,x0=x0,bounds=bounds,method_name='Nelder-Mead',n=n,exercise=e)\n",
    "SLSQP=lambda f,x0,bounds,n,e: hp.optimizeFun(f=f,x0=x0,bounds=bounds,n=n,method_name='SLSQP',exercise=e) \n",
    "L_BFGS_B=lambda f,x0,bounds,n,e:hp.optimizeFun(f=f,x0=x0,bounds=bounds,n=n,method_name='L-BFGS-B',exercise=e)"
   ]
  },
  {
   "cell_type": "markdown",
   "id": "9115031848ec8c8c",
   "metadata": {
    "collapsed": false
   },
   "source": [
    "## Ejercicio 21"
   ]
  },
  {
   "cell_type": "markdown",
   "id": "a59b604a8f3b71ad",
   "metadata": {
    "collapsed": false
   },
   "source": [
    "#### Box-Betts Quadratic Sum Function"
   ]
  },
  {
   "cell_type": "markdown",
   "id": "35560e0c03394fd4",
   "metadata": {
    "collapsed": false
   },
   "source": [
    "Continua, Diferenciable, No Separable,\n",
    "No Escalable, Multimodal"
   ]
  },
  {
   "cell_type": "markdown",
   "id": "9b1d1627d7c301ba",
   "metadata": {
    "collapsed": false
   },
   "source": [
    "$$\n",
    "f(x)= \\sum_ {i=1}^n g(x)^{2}  \n",
    "$$"
   ]
  },
  {
   "cell_type": "markdown",
   "id": "c0519f57be5b6d15",
   "metadata": {
    "collapsed": false
   },
   "source": [
    "$$\n",
    "g(x)= e^{-0.1*(i+1)x_1}-e^{-0.1*(i+1)x_2}-e^{({(-0.1*(i+1))*-e^{-(i+1)}})x_3}\n",
    "$$\n"
   ]
  },
  {
   "cell_type": "markdown",
   "id": "4125611831bf411d",
   "metadata": {
    "collapsed": false
   },
   "source": [
    "###### sujeto a:"
   ]
  },
  {
   "cell_type": "markdown",
   "id": "37b5f5cf2888c2f5",
   "metadata": {
    "collapsed": false
   },
   "source": [
    "$$\n",
    "0.9 \\leq x_1 \\leq 1.2,\n",
    "9 \\leq x_2 \\leq 11.2,\n",
    "0.9 \\leq x_3 \\leq 1.2\n",
    "$$"
   ]
  },
  {
   "cell_type": "code",
   "execution_count": 4,
   "id": "de8220f7",
   "metadata": {},
   "outputs": [
    {
     "name": "stdout",
     "output_type": "stream",
     "text": [
      "+++++++++++++++++++++++++++++++++++++++++++++++++++++++++++++++++++++++\n",
      "Valor de N= 10\n",
      "+++++++++++++++++++++++++++++++++++++++++++++++++++++++++++++++++++++++\n",
      "SLSQP \n",
      "\n",
      "   Resultado de cada variable        Óptimo  Tiempo de Ejecución  \\\n",
      "0                    1.199137  5.431320e-07                   18   \n",
      "1                   10.666128  5.431320e-07                   18   \n",
      "2                    1.200000  5.431320e-07                   18   \n",
      "\n",
      "   Número de Iteraciones  \n",
      "0                     14  \n",
      "1                     14  \n",
      "2                     14   \n",
      "\n",
      "*****************************************************************************************\n",
      "\n",
      "\n",
      "L-BFGS-B \n",
      "\n",
      "   Resultado de cada variable        Óptimo  Tiempo de Ejecución  \\\n",
      "0                    1.199507  2.256407e-07                   15   \n",
      "1                   10.687895  2.256407e-07                   15   \n",
      "2                    1.200000  2.256407e-07                   15   \n",
      "\n",
      "   Número de Iteraciones  \n",
      "0                     12  \n",
      "1                     12  \n",
      "2                     12   \n",
      "\n",
      "*****************************************************************************************\n",
      "\n",
      "\n",
      "Nelder-Mead \n",
      "\n",
      "   Resultado de cada variable  Óptimo  Tiempo de Ejecución  \\\n",
      "0                 2185.053508     0.0                   51   \n",
      "1                 2131.460515     0.0                   51   \n",
      "2                 1865.710315     0.0                   51   \n",
      "\n",
      "   Número de Iteraciones  \n",
      "0                    142  \n",
      "1                    142  \n",
      "2                    142   \n",
      "\n",
      "*****************************************************************************************\n",
      "\n",
      "\n",
      "+++++++++++++++++++++++++++++++++++++++++++++++++++++++++++++++++++++++\n",
      "Valor de N= 100\n",
      "+++++++++++++++++++++++++++++++++++++++++++++++++++++++++++++++++++++++\n",
      "SLSQP \n",
      "\n",
      "   Resultado de cada variable        Óptimo  Tiempo de Ejecución  \\\n",
      "0                    1.197570  4.110752e-07                   77   \n",
      "1                   10.684230  4.110752e-07                   77   \n",
      "2                    1.197942  4.110752e-07                   77   \n",
      "\n",
      "   Número de Iteraciones  \n",
      "0                     13  \n",
      "1                     13  \n",
      "2                     13   \n",
      "\n",
      "*****************************************************************************************\n",
      "\n",
      "\n",
      "L-BFGS-B \n",
      "\n",
      "   Resultado de cada variable        Óptimo  Tiempo de Ejecución  \\\n",
      "0                    1.199785  3.049946e-07                   79   \n",
      "1                   10.689910  3.049946e-07                   79   \n",
      "2                    1.200000  3.049946e-07                   79   \n",
      "\n",
      "   Número de Iteraciones  \n",
      "0                     10  \n",
      "1                     10  \n",
      "2                     10   \n",
      "\n",
      "*****************************************************************************************\n",
      "\n",
      "\n",
      "Nelder-Mead \n",
      "\n",
      "   Resultado de cada variable  Óptimo  Tiempo de Ejecución  \\\n",
      "0                 2302.636019     0.0                  534   \n",
      "1                 2302.706898     0.0                  534   \n",
      "2                 3032.951758     0.0                  534   \n",
      "\n",
      "   Número de Iteraciones  \n",
      "0                    180  \n",
      "1                    180  \n",
      "2                    180   \n",
      "\n",
      "*****************************************************************************************\n",
      "\n",
      "\n",
      "+++++++++++++++++++++++++++++++++++++++++++++++++++++++++++++++++++++++\n",
      "Valor de N= 500\n",
      "+++++++++++++++++++++++++++++++++++++++++++++++++++++++++++++++++++++++\n",
      "SLSQP \n",
      "\n",
      "   Resultado de cada variable        Óptimo  Tiempo de Ejecución  \\\n",
      "0                    1.197569  4.110811e-07                  490   \n",
      "1                   10.684230  4.110811e-07                  490   \n",
      "2                    1.197942  4.110811e-07                  490   \n",
      "\n",
      "   Número de Iteraciones  \n",
      "0                     13  \n",
      "1                     13  \n",
      "2                     13   \n",
      "\n",
      "*****************************************************************************************\n",
      "\n",
      "\n",
      "L-BFGS-B \n",
      "\n",
      "   Resultado de cada variable        Óptimo  Tiempo de Ejecución  \\\n",
      "0                    1.199785  3.049948e-07                  305   \n",
      "1                   10.689910  3.049948e-07                  305   \n",
      "2                    1.200000  3.049948e-07                  305   \n",
      "\n",
      "   Número de Iteraciones  \n",
      "0                     10  \n",
      "1                     10  \n",
      "2                     10   \n",
      "\n",
      "*****************************************************************************************\n",
      "\n",
      "\n",
      "Nelder-Mead \n",
      "\n",
      "   Resultado de cada variable    Óptimo  Tiempo de Ejecución  \\\n",
      "0                   -0.749000  0.062825                 3775   \n",
      "1                   11.040715  0.062825                 3775   \n",
      "2                   -0.749000  0.062825                 3775   \n",
      "\n",
      "   Número de Iteraciones  \n",
      "0                    333  \n",
      "1                    333  \n",
      "2                    333   \n",
      "\n",
      "*****************************************************************************************\n",
      "\n",
      "\n",
      "+++++++++++++++++++++++++++++++++++++++++++++++++++++++++++++++++++++++\n",
      "Valor de N= 1000\n",
      "+++++++++++++++++++++++++++++++++++++++++++++++++++++++++++++++++++++++\n",
      "SLSQP \n",
      "\n",
      "   Resultado de cada variable        Óptimo  Tiempo de Ejecución  \\\n",
      "0                    1.197569  4.110811e-07                  888   \n",
      "1                   10.684230  4.110811e-07                  888   \n",
      "2                    1.197942  4.110811e-07                  888   \n",
      "\n",
      "   Número de Iteraciones  \n",
      "0                     13  \n",
      "1                     13  \n",
      "2                     13   \n",
      "\n",
      "*****************************************************************************************\n",
      "\n",
      "\n",
      "L-BFGS-B \n",
      "\n",
      "   Resultado de cada variable        Óptimo  Tiempo de Ejecución  \\\n",
      "0                    1.199785  3.049948e-07                  652   \n",
      "1                   10.689910  3.049948e-07                  652   \n",
      "2                    1.200000  3.049948e-07                  652   \n",
      "\n",
      "   Número de Iteraciones  \n",
      "0                     10  \n",
      "1                     10  \n",
      "2                     10   \n",
      "\n",
      "*****************************************************************************************\n",
      "\n",
      "\n",
      "Nelder-Mead \n",
      "\n",
      "   Resultado de cada variable    Óptimo  Tiempo de Ejecución  \\\n",
      "0                   -0.606308  0.062724                 7583   \n",
      "1                    9.985245  0.062724                 7583   \n",
      "2                   -0.606308  0.062724                 7583   \n",
      "\n",
      "   Número de Iteraciones  \n",
      "0                    343  \n",
      "1                    343  \n",
      "2                    343   \n",
      "\n",
      "*****************************************************************************************\n",
      "\n",
      "\n",
      "Fx in the global minimun 0.0011957018855143294\n"
     ]
    }
   ],
   "source": [
    "Test(fun.BoxBettsFun,[1,10,1],'21')"
   ]
  },
  {
   "cell_type": "markdown",
   "id": "86168cce41c1f3ac",
   "metadata": {
    "collapsed": false
   },
   "source": [
    "#### Vector Esperado :"
   ]
  },
  {
   "cell_type": "markdown",
   "id": "ed4adacf90496674",
   "metadata": {
    "collapsed": false
   },
   "source": [
    "$$\n",
    "x^* = (1,10,1)\n",
    "$$"
   ]
  },
  {
   "cell_type": "markdown",
   "id": "36da4456",
   "metadata": {},
   "source": [
    "### Análisis de los resultados:"
   ]
  },
  {
   "cell_type": "markdown",
   "id": "9746289e",
   "metadata": {},
   "source": [
    "#### SLSQP:\n",
    "Encontró un mínimo que satisface el conjunto de restricciones y numéricamente es el mismo que el esperado (0) , las razones por las que difieren los valores de las variables con los esperados pueden ser por errores númericos de la aritmética al trabajar con valores tan cercanos a cero dado que para valores cercanos a $(1,10,1)$ converge rápidamente a la solución óptima. Se mantiene el mismo criterio para todo valor de N. El número de iteraciones se mantuvo entorno a los 13 siendo 14 para $N=10$\n",
    "esta disminución se debe a que por la misma naturaleza de los valores de\n",
    "$g(x)$  hayan valores que no aporten a la suma por los errores numéricos."
   ]
  },
  {
   "cell_type": "markdown",
   "id": "fbe40a98",
   "metadata": {},
   "source": [
    "#### L-BFGS-B: \n",
    "Encontró un mínimo que satisface el conjunto de restricciones y númericamente es el mismo que el esperado (0),se visualizán los mismos errores númericos explicados anteriormente, en todo momento la convergencia fue más rápida en el orden de 3-4 pasos y 25% tiempo con respecto al anterior dado que este no se basa en soluciones \"exactas\" sino que utiliza aproximaciones de la matriz Hessiana. También es mucho más eficiente a nivel de memoria."
   ]
  },
  {
   "cell_type": "markdown",
   "id": "1bb33b87",
   "metadata": {},
   "source": [
    "#### Nelder-Mead:\n",
    "Encuentra una soluciones óptimas en varios puntos, los valores de las variables no satisfacen las restricciones. Esto se debe a que no trabajan sobre el conjunto de restricciones. Tiene un muy elevado número de pasos \"cientos\" y recursos computacionales, lo cual evidencia que para este tipo de problemas no es conveniente utilizarlo."
   ]
  },
  {
   "cell_type": "markdown",
   "id": "b6ff2c158950aba7",
   "metadata": {
    "collapsed": false
   },
   "source": [
    "## Ejercicio 34"
   ]
  },
  {
   "cell_type": "markdown",
   "id": "7e4afda8",
   "metadata": {},
   "source": [
    "### Chung Reynolds Function\n"
   ]
  },
  {
   "cell_type": "markdown",
   "id": "a6884197",
   "metadata": {},
   "source": [
    "Continua, Diferenciable, Parcialmente Separable, Escalable, Unimodal"
   ]
  },
  {
   "cell_type": "markdown",
   "id": "aef1cd47",
   "metadata": {},
   "source": [
    "$$\n",
    "f(x) = (\\sum_ {i=1}^n (x_i^2))^2\n",
    "$$\n"
   ]
  },
  {
   "cell_type": "markdown",
   "id": "433b6dbb",
   "metadata": {},
   "source": [
    "###### sujeto a:"
   ]
  },
  {
   "cell_type": "markdown",
   "id": "bb6a7ee4",
   "metadata": {},
   "source": [
    "$-100 \\leq x_i \\leq 100$"
   ]
  },
  {
   "cell_type": "code",
   "execution_count": 5,
   "id": "99c7d2c1",
   "metadata": {},
   "outputs": [
    {
     "name": "stdout",
     "output_type": "stream",
     "text": [
      "+++++++++++++++++++++++++++++++++++++++++++++++++++++++++++++++++++++++\n",
      "Valor de N= 10\n",
      "+++++++++++++++++++++++++++++++++++++++++++++++++++++++++++++++++++++++\n",
      "SLSQP \n",
      "\n",
      "   Resultado de cada variable    Óptimo  Tiempo de Ejecución  \\\n",
      "0                   -0.025597  0.000192                   71   \n",
      "1                   -0.027688  0.000192                   71   \n",
      "2                   -0.034857  0.000192                   71   \n",
      "3                    0.018637  0.000192                   71   \n",
      "4                   -0.000319  0.000192                   71   \n",
      "5                    0.002853  0.000192                   71   \n",
      "6                   -0.008273  0.000192                   71   \n",
      "7                   -0.027522  0.000192                   71   \n",
      "8                    0.021633  0.000192                   71   \n",
      "9                   -0.009793  0.000192                   71   \n",
      "\n",
      "   Número de Iteraciones  \n",
      "0                     35  \n",
      "1                     35  \n",
      "2                     35  \n",
      "3                     35  \n",
      "4                     35  \n",
      "5                     35  \n",
      "6                     35  \n",
      "7                     35  \n",
      "8                     35  \n",
      "9                     35   \n",
      "\n",
      "*****************************************************************************************\n",
      "\n",
      "\n",
      "L-BFGS-B \n",
      "\n",
      "   Resultado de cada variable        Óptimo  Tiempo de Ejecución  \\\n",
      "0                    0.003364  3.954037e-08                   98   \n",
      "1                   -0.003445  3.954037e-08                   98   \n",
      "2                   -0.003060  3.954037e-08                   98   \n",
      "3                    0.002164  3.954037e-08                   98   \n",
      "4                   -0.003303  3.954037e-08                   98   \n",
      "5                   -0.001511  3.954037e-08                   98   \n",
      "6                    0.001624  3.954037e-08                   98   \n",
      "7                    0.001218  3.954037e-08                   98   \n",
      "8                   -0.002642  3.954037e-08                   98   \n",
      "9                   -0.001167  3.954037e-08                   98   \n",
      "\n",
      "   Número de Iteraciones  \n",
      "0                     34  \n",
      "1                     34  \n",
      "2                     34  \n",
      "3                     34  \n",
      "4                     34  \n",
      "5                     34  \n",
      "6                     34  \n",
      "7                     34  \n",
      "8                     34  \n",
      "9                     34   \n",
      "\n",
      "*****************************************************************************************\n",
      "\n",
      "\n",
      "Nelder-Mead \n",
      "\n",
      "   Resultado de cada variable        Óptimo  Tiempo de Ejecución  \\\n",
      "0                    0.000308  2.372150e-10                  393   \n",
      "1                   -0.000290  2.372150e-10                  393   \n",
      "2                   -0.000278  2.372150e-10                  393   \n",
      "3                   -0.000570  2.372150e-10                  393   \n",
      "4                    0.001524  2.372150e-10                  393   \n",
      "5                    0.000560  2.372150e-10                  393   \n",
      "6                   -0.000187  2.372150e-10                  393   \n",
      "7                    0.000606  2.372150e-10                  393   \n",
      "8                   -0.001113  2.372150e-10                  393   \n",
      "9                   -0.000116  2.372150e-10                  393   \n",
      "\n",
      "   Número de Iteraciones  \n",
      "0                   1443  \n",
      "1                   1443  \n",
      "2                   1443  \n",
      "3                   1443  \n",
      "4                   1443  \n",
      "5                   1443  \n",
      "6                   1443  \n",
      "7                   1443  \n",
      "8                   1443  \n",
      "9                   1443   \n",
      "\n",
      "*****************************************************************************************\n",
      "\n",
      "\n",
      "+++++++++++++++++++++++++++++++++++++++++++++++++++++++++++++++++++++++\n",
      "Valor de N= 100\n",
      "+++++++++++++++++++++++++++++++++++++++++++++++++++++++++++++++++++++++\n",
      "SLSQP \n",
      "\n",
      "    Resultado de cada variable        Óptimo  Tiempo de Ejecución  \\\n",
      "0                    -0.148181  5.142861e+07                  384   \n",
      "1                     2.048527  5.142861e+07                  384   \n",
      "2                    -3.669420  5.142861e+07                  384   \n",
      "3                    -1.806401  5.142861e+07                  384   \n",
      "4                    -2.690115  5.142861e+07                  384   \n",
      "..                         ...           ...                  ...   \n",
      "95                    3.640771  5.142861e+07                  384   \n",
      "96                   -3.017908  5.142861e+07                  384   \n",
      "97                    3.926407  5.142861e+07                  384   \n",
      "98                   -1.022935  5.142861e+07                  384   \n",
      "99                   -3.917248  5.142861e+07                  384   \n",
      "\n",
      "    Número de Iteraciones  \n",
      "0                       6  \n",
      "1                       6  \n",
      "2                       6  \n",
      "3                       6  \n",
      "4                       6  \n",
      "..                    ...  \n",
      "95                      6  \n",
      "96                      6  \n",
      "97                      6  \n",
      "98                      6  \n",
      "99                      6  \n",
      "\n",
      "[100 rows x 4 columns] \n",
      "\n",
      "*****************************************************************************************\n",
      "\n",
      "\n",
      "L-BFGS-B \n",
      "\n",
      "    Resultado de cada variable        Óptimo  Tiempo de Ejecución  \\\n",
      "0                     0.000086  2.251656e-08                 5961   \n",
      "1                    -0.000565  2.251656e-08                 5961   \n",
      "2                    -0.000216  2.251656e-08                 5961   \n",
      "3                    -0.000100  2.251656e-08                 5961   \n",
      "4                     0.000127  2.251656e-08                 5961   \n",
      "..                         ...           ...                  ...   \n",
      "95                   -0.000393  2.251656e-08                 5961   \n",
      "96                   -0.000425  2.251656e-08                 5961   \n",
      "97                    0.000393  2.251656e-08                 5961   \n",
      "98                   -0.000044  2.251656e-08                 5961   \n",
      "99                   -0.000415  2.251656e-08                 5961   \n",
      "\n",
      "    Número de Iteraciones  \n",
      "0                      41  \n",
      "1                      41  \n",
      "2                      41  \n",
      "3                      41  \n",
      "4                      41  \n",
      "..                    ...  \n",
      "95                     41  \n",
      "96                     41  \n",
      "97                     41  \n",
      "98                     41  \n",
      "99                     41  \n",
      "\n",
      "[100 rows x 4 columns] \n",
      "\n",
      "*****************************************************************************************\n",
      "\n",
      "\n",
      "Nelder-Mead \n",
      "\n",
      "    Resultado de cada variable        Óptimo  Tiempo de Ejecución  \\\n",
      "0                     0.403426  3.113160e+07                29992   \n",
      "1                     0.300034  3.113160e+07                29992   \n",
      "2                    -1.552931  3.113160e+07                29992   \n",
      "3                    -1.480925  3.113160e+07                29992   \n",
      "4                    -0.511085  3.113160e+07                29992   \n",
      "..                         ...           ...                  ...   \n",
      "95                    0.922313  3.113160e+07                29992   \n",
      "96                   -1.112704  3.113160e+07                29992   \n",
      "97                   -1.227455  3.113160e+07                29992   \n",
      "98                    1.092943  3.113160e+07                29992   \n",
      "99                    2.408310  3.113160e+07                29992   \n",
      "\n",
      "    Número de Iteraciones  \n",
      "0                   18982  \n",
      "1                   18982  \n",
      "2                   18982  \n",
      "3                   18982  \n",
      "4                   18982  \n",
      "..                    ...  \n",
      "95                  18982  \n",
      "96                  18982  \n",
      "97                  18982  \n",
      "98                  18982  \n",
      "99                  18982  \n",
      "\n",
      "[100 rows x 4 columns] \n",
      "\n",
      "*****************************************************************************************\n",
      "\n",
      "\n",
      "+++++++++++++++++++++++++++++++++++++++++++++++++++++++++++++++++++++++\n",
      "Valor de N= 500\n",
      "+++++++++++++++++++++++++++++++++++++++++++++++++++++++++++++++++++++++\n",
      "SLSQP \n",
      "\n",
      "     Resultado de cada variable        Óptimo  Tiempo de Ejecución  \\\n",
      "0                     -3.463530  1.241042e+11                10293   \n",
      "1                      1.633113  1.241042e+11                10293   \n",
      "2                      9.802174  1.241042e+11                10293   \n",
      "3                     -2.386281  1.241042e+11                10293   \n",
      "4                      5.834903  1.241042e+11                10293   \n",
      "..                          ...           ...                  ...   \n",
      "495                   -8.391137  1.241042e+11                10293   \n",
      "496                    5.600903  1.241042e+11                10293   \n",
      "497                    7.785040  1.241042e+11                10293   \n",
      "498                    2.861615  1.241042e+11                10293   \n",
      "499                    9.506059  1.241042e+11                10293   \n",
      "\n",
      "     Número de Iteraciones  \n",
      "0                        1  \n",
      "1                        1  \n",
      "2                        1  \n",
      "3                        1  \n",
      "4                        1  \n",
      "..                     ...  \n",
      "495                      1  \n",
      "496                      1  \n",
      "497                      1  \n",
      "498                      1  \n",
      "499                      1  \n",
      "\n",
      "[500 rows x 4 columns] \n",
      "\n",
      "*****************************************************************************************\n",
      "\n",
      "\n"
     ]
    },
    {
     "ename": "KeyboardInterrupt",
     "evalue": "",
     "output_type": "error",
     "traceback": [
      "\u001b[1;31m---------------------------------------------------------------------------\u001b[0m",
      "\u001b[1;31mKeyboardInterrupt\u001b[0m                         Traceback (most recent call last)",
      "Cell \u001b[1;32mIn[5], line 1\u001b[0m\n\u001b[1;32m----> 1\u001b[0m \u001b[43mTest\u001b[49m\u001b[43m(\u001b[49m\u001b[43mfun\u001b[49m\u001b[38;5;241;43m=\u001b[39;49m\u001b[43mfun\u001b[49m\u001b[38;5;241;43m.\u001b[39;49m\u001b[43mChungReynolds\u001b[49m\u001b[43m,\u001b[49m\u001b[43mmin_value\u001b[49m\u001b[38;5;241;43m=\u001b[39;49m\u001b[43m[\u001b[49m\u001b[38;5;241;43m0\u001b[39;49m\u001b[43m,\u001b[49m\u001b[38;5;241;43m0\u001b[39;49m\u001b[43m,\u001b[49m\u001b[38;5;241;43m0\u001b[39;49m\u001b[43m]\u001b[49m\u001b[43m,\u001b[49m\u001b[43mexcercise\u001b[49m\u001b[38;5;241;43m=\u001b[39;49m\u001b[38;5;124;43m'\u001b[39;49m\u001b[38;5;124;43m34\u001b[39;49m\u001b[38;5;124;43m'\u001b[39;49m\u001b[43m)\u001b[49m\n",
      "File \u001b[1;32mc:\\Users\\paco2\\PycharmProjects\\Proyecto Optimización\\helper.py:88\u001b[0m, in \u001b[0;36mTest\u001b[1;34m(fun, min_value, excercise, methods, method_names, have_bounds, d)\u001b[0m\n\u001b[0;32m     86\u001b[0m \u001b[38;5;28;01mif\u001b[39;00m(\u001b[38;5;129;01mnot\u001b[39;00m have_bounds[i]):\n\u001b[0;32m     87\u001b[0m         bounds\u001b[38;5;241m=\u001b[39m\u001b[38;5;28;01mNone\u001b[39;00m\n\u001b[1;32m---> 88\u001b[0m data,method\u001b[38;5;241m=\u001b[39m\u001b[43mmet\u001b[49m\u001b[43m(\u001b[49m\u001b[43mf\u001b[49m\u001b[38;5;241;43m=\u001b[39;49m\u001b[43mfx\u001b[49m\u001b[43m,\u001b[49m\u001b[43mx0\u001b[49m\u001b[38;5;241;43m=\u001b[39;49m\u001b[43mx0\u001b[49m\u001b[43m,\u001b[49m\u001b[43mbounds\u001b[49m\u001b[38;5;241;43m=\u001b[39;49m\u001b[43mbounds\u001b[49m\u001b[43m,\u001b[49m\u001b[43mn\u001b[49m\u001b[38;5;241;43m=\u001b[39;49m\u001b[43mn\u001b[49m\u001b[43m,\u001b[49m\u001b[43me\u001b[49m\u001b[38;5;241;43m=\u001b[39;49m\u001b[43mexcercise\u001b[49m\u001b[43m)\u001b[49m\n\u001b[0;32m     90\u001b[0m \u001b[38;5;28mprint\u001b[39m(method,\u001b[38;5;124m'\u001b[39m\u001b[38;5;130;01m\\n\u001b[39;00m\u001b[38;5;124m'\u001b[39m)\n\u001b[0;32m     91\u001b[0m \u001b[38;5;28mprint\u001b[39m(data,\u001b[38;5;124m'\u001b[39m\u001b[38;5;130;01m\\n\u001b[39;00m\u001b[38;5;124m'\u001b[39m)\n",
      "File \u001b[1;32mc:\\Users\\paco2\\PycharmProjects\\Proyecto Optimización\\helper.py:72\u001b[0m, in \u001b[0;36m<lambda>\u001b[1;34m(f, x0, bounds, n, e)\u001b[0m\n\u001b[0;32m     70\u001b[0m Nelder_Mead\u001b[38;5;241m=\u001b[39m\u001b[38;5;28;01mlambda\u001b[39;00m f,x0,bounds,n,e:optimizeFun(f\u001b[38;5;241m=\u001b[39mf,x0\u001b[38;5;241m=\u001b[39mx0,bounds\u001b[38;5;241m=\u001b[39mbounds,method_name\u001b[38;5;241m=\u001b[39m\u001b[38;5;124m'\u001b[39m\u001b[38;5;124mNelder-Mead\u001b[39m\u001b[38;5;124m'\u001b[39m,n\u001b[38;5;241m=\u001b[39mn,exercise\u001b[38;5;241m=\u001b[39me)\n\u001b[0;32m     71\u001b[0m SLSQP\u001b[38;5;241m=\u001b[39m\u001b[38;5;28;01mlambda\u001b[39;00m f,x0,bounds,n,e: optimizeFun(f\u001b[38;5;241m=\u001b[39mf,x0\u001b[38;5;241m=\u001b[39mx0,bounds\u001b[38;5;241m=\u001b[39mbounds,n\u001b[38;5;241m=\u001b[39mn,method_name\u001b[38;5;241m=\u001b[39m\u001b[38;5;124m'\u001b[39m\u001b[38;5;124mSLSQP\u001b[39m\u001b[38;5;124m'\u001b[39m,exercise\u001b[38;5;241m=\u001b[39me) \n\u001b[1;32m---> 72\u001b[0m L_BFGS_B\u001b[38;5;241m=\u001b[39m\u001b[38;5;28;01mlambda\u001b[39;00m f,x0,bounds,n,e:\u001b[43moptimizeFun\u001b[49m\u001b[43m(\u001b[49m\u001b[43mf\u001b[49m\u001b[38;5;241;43m=\u001b[39;49m\u001b[43mf\u001b[49m\u001b[43m,\u001b[49m\u001b[43mx0\u001b[49m\u001b[38;5;241;43m=\u001b[39;49m\u001b[43mx0\u001b[49m\u001b[43m,\u001b[49m\u001b[43mbounds\u001b[49m\u001b[38;5;241;43m=\u001b[39;49m\u001b[43mbounds\u001b[49m\u001b[43m,\u001b[49m\u001b[43mn\u001b[49m\u001b[38;5;241;43m=\u001b[39;49m\u001b[43mn\u001b[49m\u001b[43m,\u001b[49m\u001b[43mmethod_name\u001b[49m\u001b[38;5;241;43m=\u001b[39;49m\u001b[38;5;124;43m'\u001b[39;49m\u001b[38;5;124;43mL-BFGS-B\u001b[39;49m\u001b[38;5;124;43m'\u001b[39;49m\u001b[43m,\u001b[49m\u001b[43mexercise\u001b[49m\u001b[38;5;241;43m=\u001b[39;49m\u001b[43me\u001b[49m\u001b[43m)\u001b[49m\n\u001b[0;32m     74\u001b[0m \u001b[38;5;28;01mdef\u001b[39;00m \u001b[38;5;21mTest\u001b[39m(fun,min_value,excercise,methods\u001b[38;5;241m=\u001b[39m[SLSQP,L_BFGS_B,Nelder_Mead],method_names\u001b[38;5;241m=\u001b[39m[\u001b[38;5;124m'\u001b[39m\u001b[38;5;124mSLSQP\u001b[39m\u001b[38;5;124m'\u001b[39m,\u001b[38;5;124m'\u001b[39m\u001b[38;5;124mL_BFGS_B\u001b[39m\u001b[38;5;124m'\u001b[39m,\u001b[38;5;124m'\u001b[39m\u001b[38;5;124mNelder_Mead\u001b[39m\u001b[38;5;124m'\u001b[39m],have_bounds\u001b[38;5;241m=\u001b[39m[\u001b[38;5;28;01mTrue\u001b[39;00m,\u001b[38;5;28;01mTrue\u001b[39;00m,\u001b[38;5;28;01mFalse\u001b[39;00m], d\u001b[38;5;241m=\u001b[39m[\u001b[38;5;241m10\u001b[39m,\u001b[38;5;241m100\u001b[39m,\u001b[38;5;241m500\u001b[39m,\u001b[38;5;241m1000\u001b[39m]):\n\u001b[0;32m     75\u001b[0m        data\u001b[38;5;241m=\u001b[39m[]\n",
      "File \u001b[1;32mc:\\Users\\paco2\\PycharmProjects\\Proyecto Optimización\\helper.py:22\u001b[0m, in \u001b[0;36moptimizeFun\u001b[1;34m(f, x0, bounds, method_name, n, exercise)\u001b[0m\n\u001b[0;32m     20\u001b[0m \u001b[38;5;28;01mdef\u001b[39;00m \u001b[38;5;21moptimizeFun\u001b[39m(f,x0,bounds,method_name,n,exercise):\n\u001b[0;32m     21\u001b[0m         start_time \u001b[38;5;241m=\u001b[39m time\u001b[38;5;241m.\u001b[39mperf_counter()\n\u001b[1;32m---> 22\u001b[0m         res \u001b[38;5;241m=\u001b[39m  \u001b[43mminimize\u001b[49m\u001b[43m(\u001b[49m\u001b[43mfun\u001b[49m\u001b[38;5;241;43m=\u001b[39;49m\u001b[43mf\u001b[49m\u001b[43m,\u001b[49m\u001b[43m \u001b[49m\u001b[43mx0\u001b[49m\u001b[38;5;241;43m=\u001b[39;49m\u001b[43mx0\u001b[49m\u001b[43m,\u001b[49m\u001b[43m \u001b[49m\u001b[43mbounds\u001b[49m\u001b[38;5;241;43m=\u001b[39;49m\u001b[43mbounds\u001b[49m\u001b[43m,\u001b[49m\u001b[43m \u001b[49m\u001b[43mmethod\u001b[49m\u001b[38;5;241;43m=\u001b[39;49m\u001b[43mmethod_name\u001b[49m\u001b[43m)\u001b[49m \n\u001b[0;32m     23\u001b[0m         end_time \u001b[38;5;241m=\u001b[39m time\u001b[38;5;241m.\u001b[39mperf_counter()\n\u001b[0;32m     24\u001b[0m         execution_time_ms \u001b[38;5;241m=\u001b[39m \u001b[38;5;28mint\u001b[39m((end_time \u001b[38;5;241m-\u001b[39m start_time) \u001b[38;5;241m*\u001b[39m \u001b[38;5;241m1000\u001b[39m)\n",
      "File \u001b[1;32mc:\\Users\\paco2\\PycharmProjects\\Proyecto Optimización\\venv\\Lib\\site-packages\\scipy\\optimize\\_minimize.py:710\u001b[0m, in \u001b[0;36mminimize\u001b[1;34m(fun, x0, args, method, jac, hess, hessp, bounds, constraints, tol, callback, options)\u001b[0m\n\u001b[0;32m    707\u001b[0m     res \u001b[38;5;241m=\u001b[39m _minimize_newtoncg(fun, x0, args, jac, hess, hessp, callback,\n\u001b[0;32m    708\u001b[0m                              \u001b[38;5;241m*\u001b[39m\u001b[38;5;241m*\u001b[39moptions)\n\u001b[0;32m    709\u001b[0m \u001b[38;5;28;01melif\u001b[39;00m meth \u001b[38;5;241m==\u001b[39m \u001b[38;5;124m'\u001b[39m\u001b[38;5;124ml-bfgs-b\u001b[39m\u001b[38;5;124m'\u001b[39m:\n\u001b[1;32m--> 710\u001b[0m     res \u001b[38;5;241m=\u001b[39m \u001b[43m_minimize_lbfgsb\u001b[49m\u001b[43m(\u001b[49m\u001b[43mfun\u001b[49m\u001b[43m,\u001b[49m\u001b[43m \u001b[49m\u001b[43mx0\u001b[49m\u001b[43m,\u001b[49m\u001b[43m \u001b[49m\u001b[43margs\u001b[49m\u001b[43m,\u001b[49m\u001b[43m \u001b[49m\u001b[43mjac\u001b[49m\u001b[43m,\u001b[49m\u001b[43m \u001b[49m\u001b[43mbounds\u001b[49m\u001b[43m,\u001b[49m\n\u001b[0;32m    711\u001b[0m \u001b[43m                           \u001b[49m\u001b[43mcallback\u001b[49m\u001b[38;5;241;43m=\u001b[39;49m\u001b[43mcallback\u001b[49m\u001b[43m,\u001b[49m\u001b[43m \u001b[49m\u001b[38;5;241;43m*\u001b[39;49m\u001b[38;5;241;43m*\u001b[39;49m\u001b[43moptions\u001b[49m\u001b[43m)\u001b[49m\n\u001b[0;32m    712\u001b[0m \u001b[38;5;28;01melif\u001b[39;00m meth \u001b[38;5;241m==\u001b[39m \u001b[38;5;124m'\u001b[39m\u001b[38;5;124mtnc\u001b[39m\u001b[38;5;124m'\u001b[39m:\n\u001b[0;32m    713\u001b[0m     res \u001b[38;5;241m=\u001b[39m _minimize_tnc(fun, x0, args, jac, bounds, callback\u001b[38;5;241m=\u001b[39mcallback,\n\u001b[0;32m    714\u001b[0m                         \u001b[38;5;241m*\u001b[39m\u001b[38;5;241m*\u001b[39moptions)\n",
      "File \u001b[1;32mc:\\Users\\paco2\\PycharmProjects\\Proyecto Optimización\\venv\\Lib\\site-packages\\scipy\\optimize\\_lbfgsb_py.py:365\u001b[0m, in \u001b[0;36m_minimize_lbfgsb\u001b[1;34m(fun, x0, args, jac, bounds, disp, maxcor, ftol, gtol, eps, maxfun, maxiter, iprint, callback, maxls, finite_diff_rel_step, **unknown_options)\u001b[0m\n\u001b[0;32m    359\u001b[0m task_str \u001b[38;5;241m=\u001b[39m task\u001b[38;5;241m.\u001b[39mtobytes()\n\u001b[0;32m    360\u001b[0m \u001b[38;5;28;01mif\u001b[39;00m task_str\u001b[38;5;241m.\u001b[39mstartswith(\u001b[38;5;124mb\u001b[39m\u001b[38;5;124m'\u001b[39m\u001b[38;5;124mFG\u001b[39m\u001b[38;5;124m'\u001b[39m):\n\u001b[0;32m    361\u001b[0m     \u001b[38;5;66;03m# The minimization routine wants f and g at the current x.\u001b[39;00m\n\u001b[0;32m    362\u001b[0m     \u001b[38;5;66;03m# Note that interruptions due to maxfun are postponed\u001b[39;00m\n\u001b[0;32m    363\u001b[0m     \u001b[38;5;66;03m# until the completion of the current minimization iteration.\u001b[39;00m\n\u001b[0;32m    364\u001b[0m     \u001b[38;5;66;03m# Overwrite f and g:\u001b[39;00m\n\u001b[1;32m--> 365\u001b[0m     f, g \u001b[38;5;241m=\u001b[39m \u001b[43mfunc_and_grad\u001b[49m\u001b[43m(\u001b[49m\u001b[43mx\u001b[49m\u001b[43m)\u001b[49m\n\u001b[0;32m    366\u001b[0m \u001b[38;5;28;01melif\u001b[39;00m task_str\u001b[38;5;241m.\u001b[39mstartswith(\u001b[38;5;124mb\u001b[39m\u001b[38;5;124m'\u001b[39m\u001b[38;5;124mNEW_X\u001b[39m\u001b[38;5;124m'\u001b[39m):\n\u001b[0;32m    367\u001b[0m     \u001b[38;5;66;03m# new iteration\u001b[39;00m\n\u001b[0;32m    368\u001b[0m     n_iterations \u001b[38;5;241m+\u001b[39m\u001b[38;5;241m=\u001b[39m \u001b[38;5;241m1\u001b[39m\n",
      "File \u001b[1;32mc:\\Users\\paco2\\PycharmProjects\\Proyecto Optimización\\venv\\Lib\\site-packages\\scipy\\optimize\\_differentiable_functions.py:286\u001b[0m, in \u001b[0;36mScalarFunction.fun_and_grad\u001b[1;34m(self, x)\u001b[0m\n\u001b[0;32m    284\u001b[0m     \u001b[38;5;28mself\u001b[39m\u001b[38;5;241m.\u001b[39m_update_x_impl(x)\n\u001b[0;32m    285\u001b[0m \u001b[38;5;28mself\u001b[39m\u001b[38;5;241m.\u001b[39m_update_fun()\n\u001b[1;32m--> 286\u001b[0m \u001b[38;5;28;43mself\u001b[39;49m\u001b[38;5;241;43m.\u001b[39;49m\u001b[43m_update_grad\u001b[49m\u001b[43m(\u001b[49m\u001b[43m)\u001b[49m\n\u001b[0;32m    287\u001b[0m \u001b[38;5;28;01mreturn\u001b[39;00m \u001b[38;5;28mself\u001b[39m\u001b[38;5;241m.\u001b[39mf, \u001b[38;5;28mself\u001b[39m\u001b[38;5;241m.\u001b[39mg\n",
      "File \u001b[1;32mc:\\Users\\paco2\\PycharmProjects\\Proyecto Optimización\\venv\\Lib\\site-packages\\scipy\\optimize\\_differentiable_functions.py:256\u001b[0m, in \u001b[0;36mScalarFunction._update_grad\u001b[1;34m(self)\u001b[0m\n\u001b[0;32m    254\u001b[0m \u001b[38;5;28;01mdef\u001b[39;00m \u001b[38;5;21m_update_grad\u001b[39m(\u001b[38;5;28mself\u001b[39m):\n\u001b[0;32m    255\u001b[0m     \u001b[38;5;28;01mif\u001b[39;00m \u001b[38;5;129;01mnot\u001b[39;00m \u001b[38;5;28mself\u001b[39m\u001b[38;5;241m.\u001b[39mg_updated:\n\u001b[1;32m--> 256\u001b[0m         \u001b[38;5;28;43mself\u001b[39;49m\u001b[38;5;241;43m.\u001b[39;49m\u001b[43m_update_grad_impl\u001b[49m\u001b[43m(\u001b[49m\u001b[43m)\u001b[49m\n\u001b[0;32m    257\u001b[0m         \u001b[38;5;28mself\u001b[39m\u001b[38;5;241m.\u001b[39mg_updated \u001b[38;5;241m=\u001b[39m \u001b[38;5;28;01mTrue\u001b[39;00m\n",
      "File \u001b[1;32mc:\\Users\\paco2\\PycharmProjects\\Proyecto Optimización\\venv\\Lib\\site-packages\\scipy\\optimize\\_differentiable_functions.py:173\u001b[0m, in \u001b[0;36mScalarFunction.__init__.<locals>.update_grad\u001b[1;34m()\u001b[0m\n\u001b[0;32m    171\u001b[0m \u001b[38;5;28mself\u001b[39m\u001b[38;5;241m.\u001b[39m_update_fun()\n\u001b[0;32m    172\u001b[0m \u001b[38;5;28mself\u001b[39m\u001b[38;5;241m.\u001b[39mngev \u001b[38;5;241m+\u001b[39m\u001b[38;5;241m=\u001b[39m \u001b[38;5;241m1\u001b[39m\n\u001b[1;32m--> 173\u001b[0m \u001b[38;5;28mself\u001b[39m\u001b[38;5;241m.\u001b[39mg \u001b[38;5;241m=\u001b[39m \u001b[43mapprox_derivative\u001b[49m\u001b[43m(\u001b[49m\u001b[43mfun_wrapped\u001b[49m\u001b[43m,\u001b[49m\u001b[43m \u001b[49m\u001b[38;5;28;43mself\u001b[39;49m\u001b[38;5;241;43m.\u001b[39;49m\u001b[43mx\u001b[49m\u001b[43m,\u001b[49m\u001b[43m \u001b[49m\u001b[43mf0\u001b[49m\u001b[38;5;241;43m=\u001b[39;49m\u001b[38;5;28;43mself\u001b[39;49m\u001b[38;5;241;43m.\u001b[39;49m\u001b[43mf\u001b[49m\u001b[43m,\u001b[49m\n\u001b[0;32m    174\u001b[0m \u001b[43m                           \u001b[49m\u001b[38;5;241;43m*\u001b[39;49m\u001b[38;5;241;43m*\u001b[39;49m\u001b[43mfinite_diff_options\u001b[49m\u001b[43m)\u001b[49m\n",
      "File \u001b[1;32mc:\\Users\\paco2\\PycharmProjects\\Proyecto Optimización\\venv\\Lib\\site-packages\\scipy\\optimize\\_numdiff.py:505\u001b[0m, in \u001b[0;36mapprox_derivative\u001b[1;34m(fun, x0, method, rel_step, abs_step, f0, bounds, sparsity, as_linear_operator, args, kwargs)\u001b[0m\n\u001b[0;32m    502\u001b[0m     use_one_sided \u001b[38;5;241m=\u001b[39m \u001b[38;5;28;01mFalse\u001b[39;00m\n\u001b[0;32m    504\u001b[0m \u001b[38;5;28;01mif\u001b[39;00m sparsity \u001b[38;5;129;01mis\u001b[39;00m \u001b[38;5;28;01mNone\u001b[39;00m:\n\u001b[1;32m--> 505\u001b[0m     \u001b[38;5;28;01mreturn\u001b[39;00m \u001b[43m_dense_difference\u001b[49m\u001b[43m(\u001b[49m\u001b[43mfun_wrapped\u001b[49m\u001b[43m,\u001b[49m\u001b[43m \u001b[49m\u001b[43mx0\u001b[49m\u001b[43m,\u001b[49m\u001b[43m \u001b[49m\u001b[43mf0\u001b[49m\u001b[43m,\u001b[49m\u001b[43m \u001b[49m\u001b[43mh\u001b[49m\u001b[43m,\u001b[49m\n\u001b[0;32m    506\u001b[0m \u001b[43m                             \u001b[49m\u001b[43muse_one_sided\u001b[49m\u001b[43m,\u001b[49m\u001b[43m \u001b[49m\u001b[43mmethod\u001b[49m\u001b[43m)\u001b[49m\n\u001b[0;32m    507\u001b[0m \u001b[38;5;28;01melse\u001b[39;00m:\n\u001b[0;32m    508\u001b[0m     \u001b[38;5;28;01mif\u001b[39;00m \u001b[38;5;129;01mnot\u001b[39;00m issparse(sparsity) \u001b[38;5;129;01mand\u001b[39;00m \u001b[38;5;28mlen\u001b[39m(sparsity) \u001b[38;5;241m==\u001b[39m \u001b[38;5;241m2\u001b[39m:\n",
      "File \u001b[1;32mc:\\Users\\paco2\\PycharmProjects\\Proyecto Optimización\\venv\\Lib\\site-packages\\scipy\\optimize\\_numdiff.py:576\u001b[0m, in \u001b[0;36m_dense_difference\u001b[1;34m(fun, x0, f0, h, use_one_sided, method)\u001b[0m\n\u001b[0;32m    574\u001b[0m     x \u001b[38;5;241m=\u001b[39m x0 \u001b[38;5;241m+\u001b[39m h_vecs[i]\n\u001b[0;32m    575\u001b[0m     dx \u001b[38;5;241m=\u001b[39m x[i] \u001b[38;5;241m-\u001b[39m x0[i]  \u001b[38;5;66;03m# Recompute dx as exactly representable number.\u001b[39;00m\n\u001b[1;32m--> 576\u001b[0m     df \u001b[38;5;241m=\u001b[39m \u001b[43mfun\u001b[49m\u001b[43m(\u001b[49m\u001b[43mx\u001b[49m\u001b[43m)\u001b[49m \u001b[38;5;241m-\u001b[39m f0\n\u001b[0;32m    577\u001b[0m \u001b[38;5;28;01melif\u001b[39;00m method \u001b[38;5;241m==\u001b[39m \u001b[38;5;124m'\u001b[39m\u001b[38;5;124m3-point\u001b[39m\u001b[38;5;124m'\u001b[39m \u001b[38;5;129;01mand\u001b[39;00m use_one_sided[i]:\n\u001b[0;32m    578\u001b[0m     x1 \u001b[38;5;241m=\u001b[39m x0 \u001b[38;5;241m+\u001b[39m h_vecs[i]\n",
      "File \u001b[1;32mc:\\Users\\paco2\\PycharmProjects\\Proyecto Optimización\\venv\\Lib\\site-packages\\scipy\\optimize\\_numdiff.py:456\u001b[0m, in \u001b[0;36mapprox_derivative.<locals>.fun_wrapped\u001b[1;34m(x)\u001b[0m\n\u001b[0;32m    455\u001b[0m \u001b[38;5;28;01mdef\u001b[39;00m \u001b[38;5;21mfun_wrapped\u001b[39m(x):\n\u001b[1;32m--> 456\u001b[0m     f \u001b[38;5;241m=\u001b[39m np\u001b[38;5;241m.\u001b[39matleast_1d(\u001b[43mfun\u001b[49m\u001b[43m(\u001b[49m\u001b[43mx\u001b[49m\u001b[43m,\u001b[49m\u001b[43m \u001b[49m\u001b[38;5;241;43m*\u001b[39;49m\u001b[43margs\u001b[49m\u001b[43m,\u001b[49m\u001b[43m \u001b[49m\u001b[38;5;241;43m*\u001b[39;49m\u001b[38;5;241;43m*\u001b[39;49m\u001b[43mkwargs\u001b[49m\u001b[43m)\u001b[49m)\n\u001b[0;32m    457\u001b[0m     \u001b[38;5;28;01mif\u001b[39;00m f\u001b[38;5;241m.\u001b[39mndim \u001b[38;5;241m>\u001b[39m \u001b[38;5;241m1\u001b[39m:\n\u001b[0;32m    458\u001b[0m         \u001b[38;5;28;01mraise\u001b[39;00m \u001b[38;5;167;01mRuntimeError\u001b[39;00m(\u001b[38;5;124m\"\u001b[39m\u001b[38;5;124m`fun` return value has \u001b[39m\u001b[38;5;124m\"\u001b[39m\n\u001b[0;32m    459\u001b[0m                            \u001b[38;5;124m\"\u001b[39m\u001b[38;5;124mmore than 1 dimension.\u001b[39m\u001b[38;5;124m\"\u001b[39m)\n",
      "File \u001b[1;32mc:\\Users\\paco2\\PycharmProjects\\Proyecto Optimización\\venv\\Lib\\site-packages\\scipy\\optimize\\_differentiable_functions.py:137\u001b[0m, in \u001b[0;36mScalarFunction.__init__.<locals>.fun_wrapped\u001b[1;34m(x)\u001b[0m\n\u001b[0;32m    133\u001b[0m \u001b[38;5;28mself\u001b[39m\u001b[38;5;241m.\u001b[39mnfev \u001b[38;5;241m+\u001b[39m\u001b[38;5;241m=\u001b[39m \u001b[38;5;241m1\u001b[39m\n\u001b[0;32m    134\u001b[0m \u001b[38;5;66;03m# Send a copy because the user may overwrite it.\u001b[39;00m\n\u001b[0;32m    135\u001b[0m \u001b[38;5;66;03m# Overwriting results in undefined behaviour because\u001b[39;00m\n\u001b[0;32m    136\u001b[0m \u001b[38;5;66;03m# fun(self.x) will change self.x, with the two no longer linked.\u001b[39;00m\n\u001b[1;32m--> 137\u001b[0m fx \u001b[38;5;241m=\u001b[39m \u001b[43mfun\u001b[49m\u001b[43m(\u001b[49m\u001b[43mnp\u001b[49m\u001b[38;5;241;43m.\u001b[39;49m\u001b[43mcopy\u001b[49m\u001b[43m(\u001b[49m\u001b[43mx\u001b[49m\u001b[43m)\u001b[49m\u001b[43m,\u001b[49m\u001b[43m \u001b[49m\u001b[38;5;241;43m*\u001b[39;49m\u001b[43margs\u001b[49m\u001b[43m)\u001b[49m\n\u001b[0;32m    138\u001b[0m \u001b[38;5;66;03m# Make sure the function returns a true scalar\u001b[39;00m\n\u001b[0;32m    139\u001b[0m \u001b[38;5;28;01mif\u001b[39;00m \u001b[38;5;129;01mnot\u001b[39;00m np\u001b[38;5;241m.\u001b[39misscalar(fx):\n",
      "File \u001b[1;32mc:\\Users\\paco2\\PycharmProjects\\Proyecto Optimización\\functions.py:47\u001b[0m, in \u001b[0;36mChungReynolds.f\u001b[1;34m(self, x)\u001b[0m\n\u001b[0;32m     45\u001b[0m value\u001b[38;5;241m=\u001b[39m\u001b[38;5;241m0\u001b[39m\n\u001b[0;32m     46\u001b[0m \u001b[38;5;28;01mfor\u001b[39;00m i \u001b[38;5;129;01min\u001b[39;00m \u001b[38;5;28mrange\u001b[39m(\u001b[38;5;241m1\u001b[39m,\u001b[38;5;28mself\u001b[39m\u001b[38;5;241m.\u001b[39mn\u001b[38;5;241m+\u001b[39m\u001b[38;5;241m1\u001b[39m):\n\u001b[1;32m---> 47\u001b[0m     value\u001b[38;5;241m+\u001b[39m\u001b[38;5;241m=\u001b[39m\u001b[38;5;28;43mself\u001b[39;49m\u001b[38;5;241;43m.\u001b[39;49m\u001b[43m__chung_reynolds\u001b[49m\u001b[43m(\u001b[49m\u001b[43mx\u001b[49m\u001b[43m)\u001b[49m\n\u001b[0;32m     48\u001b[0m \u001b[38;5;28;01mreturn\u001b[39;00m value\n",
      "File \u001b[1;32mc:\\Users\\paco2\\PycharmProjects\\Proyecto Optimización\\functions.py:51\u001b[0m, in \u001b[0;36mChungReynolds.__chung_reynolds\u001b[1;34m(self, x)\u001b[0m\n\u001b[0;32m     50\u001b[0m \u001b[38;5;28;01mdef\u001b[39;00m \u001b[38;5;21m__chung_reynolds\u001b[39m(\u001b[38;5;28mself\u001b[39m,x):\n\u001b[1;32m---> 51\u001b[0m     x\u001b[38;5;241m=\u001b[39mnp\u001b[38;5;241m.\u001b[39marray(x)\n\u001b[0;32m     52\u001b[0m     x2\u001b[38;5;241m=\u001b[39mnp\u001b[38;5;241m.\u001b[39msquare(x)\n\u001b[0;32m     53\u001b[0m     \u001b[38;5;28;01mreturn\u001b[39;00m np\u001b[38;5;241m.\u001b[39msum(x2)\u001b[38;5;241m*\u001b[39m\u001b[38;5;241m*\u001b[39m\u001b[38;5;241m2\u001b[39m\n",
      "\u001b[1;31mKeyboardInterrupt\u001b[0m: "
     ]
    }
   ],
   "source": [
    "Test(fun=fun.ChungReynolds,min_value=[0,0,0],excercise='34')"
   ]
  },
  {
   "cell_type": "markdown",
   "id": "beb343f19ba1476b",
   "metadata": {
    "collapsed": false
   },
   "source": [
    "#### Vector Esperado :"
   ]
  },
  {
   "cell_type": "markdown",
   "id": "ac498b3145986e2e",
   "metadata": {
    "collapsed": false
   },
   "source": [
    "$$\n",
    "x^* = (0,0,....,0)\n",
    "$$"
   ]
  },
  {
   "cell_type": "markdown",
   "id": "31b22a98",
   "metadata": {},
   "source": [
    "### Análisis de los resultados:"
   ]
  },
  {
   "cell_type": "markdown",
   "id": "c817807d",
   "metadata": {},
   "source": [
    "#### SLSQP:\n",
    "Encontró un mínimo que satisface el conjunto de restricciones y númericamente es el mismo que el esperado (0), aunque por problemas de la aritmética para valores N &ge; 100  se empieza a ver que se aleja del óptimo,  siendo así que en con N=100 y N=500 los valores se alejan del óptimo. En cuanto a iteraciones para $N \\leq 100$ se mantiene sobre los 53 - 100 pasos, para valores cercanos a 500 puede verse como desde la primera iteración nos devuelve un resultado, siendo este erróneo por errores aritméticos en el cálculo matricial."
   ]
  },
  {
   "cell_type": "markdown",
   "id": "3f2ff17b",
   "metadata": {},
   "source": [
    "#### L-BFGS-B:\n",
    " En este se encuentran igualmente los óptimos y ocurren los mismos errores aunque en este puede verse los errores a partir de $N=100$. El número de iteraciones se mantiene por debajo del anterior método siendo mayor su tendencia mientras mayor es el N."
   ]
  },
  {
   "cell_type": "markdown",
   "id": "d2900303",
   "metadata": {},
   "source": [
    "#### Nelder-Mead: \n",
    "Número de iteraciones en el orden de las miles, no terminó después de 10 minutos de completar para $N=500$ Resultados alejados del óptimo desde $N=25$"
   ]
  },
  {
   "cell_type": "markdown",
   "id": "c5a283d71c06b035",
   "metadata": {
    "collapsed": false
   },
   "source": [
    "## Ejercicio 24"
   ]
  },
  {
   "cell_type": "markdown",
   "id": "d6027042",
   "metadata": {},
   "source": [
    "### Brent Function"
   ]
  },
  {
   "cell_type": "markdown",
   "id": "a51c7025",
   "metadata": {},
   "source": [
    "#### Continua, Diferenciable, No Separable, No Escalable, Unimodal"
   ]
  },
  {
   "cell_type": "markdown",
   "id": "69a2ace9",
   "metadata": {},
   "source": [
    "$$\n",
    "f(x)= (x_1+10)^2+(x_2+10)^2+e^{-x_1^2-x_2^2}\n",
    "$$"
   ]
  },
  {
   "cell_type": "markdown",
   "id": "9274dee7",
   "metadata": {},
   "source": [
    "###### sujeto a:"
   ]
  },
  {
   "cell_type": "markdown",
   "id": "a08f598b",
   "metadata": {},
   "source": [
    "$$-10 \\leq x_i \\leq 10$$"
   ]
  },
  {
   "cell_type": "code",
   "execution_count": 6,
   "id": "1dc8aa7dfe797090",
   "metadata": {
    "ExecuteTime": {
     "end_time": "2023-12-08T15:36:21.568240900Z",
     "start_time": "2023-12-08T15:36:21.524380Z"
    },
    "collapsed": false
   },
   "outputs": [
    {
     "name": "stdout",
     "output_type": "stream",
     "text": [
      "+++++++++++++++++++++++++++++++++++++++++++++++++++++++++++++++++++++++\n",
      "Valor de N= 1\n",
      "+++++++++++++++++++++++++++++++++++++++++++++++++++++++++++++++++++++++\n",
      "SLSQP \n",
      "\n",
      "   Resultado de cada variable        Óptimo  Tiempo de Ejecución  \\\n",
      "0                       -10.0  4.060740e-26                    2   \n",
      "1                       -10.0  4.060740e-26                    2   \n",
      "\n",
      "   Número de Iteraciones  \n",
      "0                      2  \n",
      "1                      2   \n",
      "\n",
      "*****************************************************************************************\n",
      "\n",
      "\n",
      "L-BFGS-B \n",
      "\n",
      "   Resultado de cada variable        Óptimo  Tiempo de Ejecución  \\\n",
      "0                       -10.0  1.383897e-87                    2   \n",
      "1                       -10.0  1.383897e-87                    2   \n",
      "\n",
      "   Número de Iteraciones  \n",
      "0                      1  \n",
      "1                      1   \n",
      "\n",
      "*****************************************************************************************\n",
      "\n",
      "\n",
      "Nelder-Mead \n",
      "\n",
      "   Resultado de cada variable        Óptimo  Tiempo de Ejecución  \\\n",
      "0                  -10.000055  3.002235e-09                   10   \n",
      "1                  -10.000003  3.002235e-09                   10   \n",
      "\n",
      "   Número de Iteraciones  \n",
      "0                     74  \n",
      "1                     74   \n",
      "\n",
      "*****************************************************************************************\n",
      "\n",
      "\n",
      "Fx in the global minimun 1.3838965267367376e-87\n"
     ]
    }
   ],
   "source": [
    "Test(fun=fun.BrentFunction,min_value=[-10,-10],d=[1],excercise='24')"
   ]
  },
  {
   "cell_type": "markdown",
   "id": "bafef035",
   "metadata": {},
   "source": [
    "#### Vector esperado"
   ]
  },
  {
   "cell_type": "markdown",
   "id": "16246cfa",
   "metadata": {},
   "source": [
    "$$\n",
    "x^* = (-10,-10)\n",
    "$$"
   ]
  },
  {
   "cell_type": "markdown",
   "id": "496acf53",
   "metadata": {},
   "source": [
    "### Análisis de los resultados:"
   ]
  },
  {
   "cell_type": "markdown",
   "id": "cdc947bf",
   "metadata": {},
   "source": [
    "#### SLSQP:\n",
    "Encontró un mínimo que satisface el conjunto de restricciones y númericamente es el mismo que el esperado (~0), el número de iteraciones es de 2 dado que es una función con derivadas sin mayores complicaciones.\n"
   ]
  },
  {
   "cell_type": "markdown",
   "id": "5ca2da7d",
   "metadata": {},
   "source": [
    "#### L-BFGS-B:\n",
    " En este se encuentran igualmente el óptimo en este caso más rápido como se esperaba por la misma naturaleza del algoritmo al aproximar las derivadas, las cuales no presentan grandes dificultades ni problemas numéricos excepto los ya mencionados. "
   ]
  },
  {
   "cell_type": "markdown",
   "id": "28339440",
   "metadata": {},
   "source": [
    "#### Nelder-Mead: \n",
    "Logró encontrar el óptimo global, dado que esta es la ruta de descenso posible, el número de iteraciones sigue siendo muy alta 74."
   ]
  },
  {
   "cell_type": "markdown",
   "id": "68d33c45012f5dc",
   "metadata": {
    "collapsed": false
   },
   "source": [
    "## Ejercicio 25"
   ]
  },
  {
   "cell_type": "markdown",
   "id": "a7b2d77c",
   "metadata": {},
   "source": [
    "### Brown Function"
   ]
  },
  {
   "cell_type": "markdown",
   "id": "c1ae4a10",
   "metadata": {},
   "source": [
    "Continua, Diferenciable, No Separabe, Escalable, Unimodal"
   ]
  },
  {
   "cell_type": "markdown",
   "id": "bf3b7c70",
   "metadata": {},
   "source": [
    "$$\n",
    "f(x) = \\sum_ {i=1}^n (x_i^2)^{(x_{i+1}^{2}+1)} +(x_{i+1}^2)^{(x_i^{2}+1)}\n",
    "$$"
   ]
  },
  {
   "cell_type": "markdown",
   "id": "b5e66612",
   "metadata": {},
   "source": [
    "###### sujeto a:"
   ]
  },
  {
   "cell_type": "markdown",
   "id": "0e8d2f86",
   "metadata": {},
   "source": [
    "$$\n",
    "-1 \\leq x_i \\leq 4\n",
    "$$"
   ]
  },
  {
   "cell_type": "code",
   "execution_count": 7,
   "id": "8f5e9065",
   "metadata": {},
   "outputs": [
    {
     "name": "stdout",
     "output_type": "stream",
     "text": [
      "+++++++++++++++++++++++++++++++++++++++++++++++++++++++++++++++++++++++\n",
      "Valor de N= 10\n",
      "+++++++++++++++++++++++++++++++++++++++++++++++++++++++++++++++++++++++\n",
      "SLSQP \n",
      "\n",
      "   Resultado de cada variable        Óptimo  Tiempo de Ejecución  \\\n",
      "0                    2.917955  1.140932e-07                   56   \n",
      "1                    0.000018  1.140932e-07                   56   \n",
      "2                   -0.000186  1.140932e-07                   56   \n",
      "3                   -0.000048  1.140932e-07                   56   \n",
      "4                   -0.000077  1.140932e-07                   56   \n",
      "5                   -0.000105  1.140932e-07                   56   \n",
      "6                    0.000049  1.140932e-07                   56   \n",
      "7                    0.000005  1.140932e-07                   56   \n",
      "8                    0.000014  1.140932e-07                   56   \n",
      "9                    0.000034  1.140932e-07                   56   \n",
      "\n",
      "   Número de Iteraciones  \n",
      "0                     34  \n",
      "1                     34  \n",
      "2                     34  \n",
      "3                     34  \n",
      "4                     34  \n",
      "5                     34  \n",
      "6                     34  \n",
      "7                     34  \n",
      "8                     34  \n",
      "9                     34   \n",
      "\n",
      "*****************************************************************************************\n",
      "\n",
      "\n",
      "L-BFGS-B \n",
      "\n",
      "   Resultado de cada variable        Óptimo  Tiempo de Ejecución  \\\n",
      "0                8.138089e-01  3.217019e-11                   43   \n",
      "1                1.799853e-06  3.217019e-11                   43   \n",
      "2                1.038538e-06  3.217019e-11                   43   \n",
      "3               -1.631627e-07  3.217019e-11                   43   \n",
      "4               -8.919557e-07  3.217019e-11                   43   \n",
      "5               -2.440025e-06  3.217019e-11                   43   \n",
      "6                3.478604e-09  3.217019e-11                   43   \n",
      "7                2.208984e-06  3.217019e-11                   43   \n",
      "8               -3.450654e-07  3.217019e-11                   43   \n",
      "9               -1.795650e-06  3.217019e-11                   43   \n",
      "\n",
      "   Número de Iteraciones  \n",
      "0                     20  \n",
      "1                     20  \n",
      "2                     20  \n",
      "3                     20  \n",
      "4                     20  \n",
      "5                     20  \n",
      "6                     20  \n",
      "7                     20  \n",
      "8                     20  \n",
      "9                     20   \n",
      "\n",
      "*****************************************************************************************\n",
      "\n",
      "\n",
      "Nelder-Mead \n",
      "\n",
      "   Resultado de cada variable    Óptimo  Tiempo de Ejecución  \\\n",
      "0                  -66.552629  0.037123                  183   \n",
      "1                    0.112348  0.037123                  183   \n",
      "2                    0.001169  0.037123                  183   \n",
      "3                    0.086521  0.037123                  183   \n",
      "4                    0.004558  0.037123                  183   \n",
      "5                   -0.002725  0.037123                  183   \n",
      "6                   -0.004222  0.037123                  183   \n",
      "7                    0.013927  0.037123                  183   \n",
      "8                    0.054967  0.037123                  183   \n",
      "9                   -0.055888  0.037123                  183   \n",
      "\n",
      "   Número de Iteraciones  \n",
      "0                   1457  \n",
      "1                   1457  \n",
      "2                   1457  \n",
      "3                   1457  \n",
      "4                   1457  \n",
      "5                   1457  \n",
      "6                   1457  \n",
      "7                   1457  \n",
      "8                   1457  \n",
      "9                   1457   \n",
      "\n",
      "*****************************************************************************************\n",
      "\n",
      "\n",
      "+++++++++++++++++++++++++++++++++++++++++++++++++++++++++++++++++++++++\n",
      "Valor de N= 100\n",
      "+++++++++++++++++++++++++++++++++++++++++++++++++++++++++++++++++++++++\n",
      "SLSQP \n",
      "\n",
      "    Resultado de cada variable        Óptimo  Tiempo de Ejecución  \\\n",
      "0                     1.295083  1.258904e+09                  131   \n",
      "1                     1.600213  1.258904e+09                  131   \n",
      "2                     1.768826  1.258904e+09                  131   \n",
      "3                    -0.521299  1.258904e+09                  131   \n",
      "4                     1.865071  1.258904e+09                  131   \n",
      "..                         ...           ...                  ...   \n",
      "95                    0.852710  1.258904e+09                  131   \n",
      "96                   -0.463804  1.258904e+09                  131   \n",
      "97                   -0.193090  1.258904e+09                  131   \n",
      "98                    1.516010  1.258904e+09                  131   \n",
      "99                    2.188004  1.258904e+09                  131   \n",
      "\n",
      "    Número de Iteraciones  \n",
      "0                       3  \n",
      "1                       3  \n",
      "2                       3  \n",
      "3                       3  \n",
      "4                       3  \n",
      "..                    ...  \n",
      "95                      3  \n",
      "96                      3  \n",
      "97                      3  \n",
      "98                      3  \n",
      "99                      3  \n",
      "\n",
      "[100 rows x 4 columns] \n",
      "\n",
      "*****************************************************************************************\n",
      "\n",
      "\n"
     ]
    },
    {
     "name": "stderr",
     "output_type": "stream",
     "text": [
      "c:\\Users\\paco2\\PycharmProjects\\Proyecto Optimización\\venv\\Lib\\site-packages\\scipy\\optimize\\_optimize.py:404: RuntimeWarning: Values in x were outside bounds during a minimize step, clipping to bounds\n",
      "  warnings.warn(\"Values in x were outside bounds during a \"\n"
     ]
    },
    {
     "name": "stdout",
     "output_type": "stream",
     "text": [
      "L-BFGS-B \n",
      "\n",
      "    Resultado de cada variable        Óptimo  Tiempo de Ejecución  \\\n",
      "0                 3.800140e+00  8.742279e-12                 1458   \n",
      "1                 2.386862e-06  8.742279e-12                 1458   \n",
      "2                -3.057870e-08  8.742279e-12                 1458   \n",
      "3                 1.335226e-08  8.742279e-12                 1458   \n",
      "4                 5.261018e-09  8.742279e-12                 1458   \n",
      "..                         ...           ...                  ...   \n",
      "95                3.088720e-10  8.742279e-12                 1458   \n",
      "96               -4.874335e-09  8.742279e-12                 1458   \n",
      "97               -3.648247e-09  8.742279e-12                 1458   \n",
      "98                4.828325e-08  8.742279e-12                 1458   \n",
      "99                1.702400e-06  8.742279e-12                 1458   \n",
      "\n",
      "    Número de Iteraciones  \n",
      "0                      36  \n",
      "1                      36  \n",
      "2                      36  \n",
      "3                      36  \n",
      "4                      36  \n",
      "..                    ...  \n",
      "95                     36  \n",
      "96                     36  \n",
      "97                     36  \n",
      "98                     36  \n",
      "99                     36  \n",
      "\n",
      "[100 rows x 4 columns] \n",
      "\n",
      "*****************************************************************************************\n",
      "\n",
      "\n",
      "Nelder-Mead \n",
      "\n",
      "    Resultado de cada variable     Óptimo  Tiempo de Ejecución  \\\n",
      "0                     3.710299  351.50814                 8907   \n",
      "1                     2.910475  351.50814                 8907   \n",
      "2                     0.201551  351.50814                 8907   \n",
      "3                     0.638927  351.50814                 8907   \n",
      "4                     1.018265  351.50814                 8907   \n",
      "..                         ...        ...                  ...   \n",
      "95                    0.156016  351.50814                 8907   \n",
      "96                   -0.740489  351.50814                 8907   \n",
      "97                    0.989063  351.50814                 8907   \n",
      "98                    0.210854  351.50814                 8907   \n",
      "99                    2.011233  351.50814                 8907   \n",
      "\n",
      "    Número de Iteraciones  \n",
      "0                   18837  \n",
      "1                   18837  \n",
      "2                   18837  \n",
      "3                   18837  \n",
      "4                   18837  \n",
      "..                    ...  \n",
      "95                  18837  \n",
      "96                  18837  \n",
      "97                  18837  \n",
      "98                  18837  \n",
      "99                  18837  \n",
      "\n",
      "[100 rows x 4 columns] \n",
      "\n",
      "*****************************************************************************************\n",
      "\n",
      "\n",
      "+++++++++++++++++++++++++++++++++++++++++++++++++++++++++++++++++++++++\n",
      "Valor de N= 500\n",
      "+++++++++++++++++++++++++++++++++++++++++++++++++++++++++++++++++++++++\n",
      "SLSQP \n",
      "\n",
      "     Resultado de cada variable        Óptimo  Tiempo de Ejecución  \\\n",
      "0                      3.795817  7.945670e+18                 4156   \n",
      "1                      3.257366  7.945670e+18                 4156   \n",
      "2                      2.489024  7.945670e+18                 4156   \n",
      "3                      3.039217  7.945670e+18                 4156   \n",
      "4                      2.846674  7.945670e+18                 4156   \n",
      "..                          ...           ...                  ...   \n",
      "495                    3.225017  7.945670e+18                 4156   \n",
      "496                    3.863372  7.945670e+18                 4156   \n",
      "497                   -0.590094  7.945670e+18                 4156   \n",
      "498                    3.097637  7.945670e+18                 4156   \n",
      "499                    0.537616  7.945670e+18                 4156   \n",
      "\n",
      "     Número de Iteraciones  \n",
      "0                        1  \n",
      "1                        1  \n",
      "2                        1  \n",
      "3                        1  \n",
      "4                        1  \n",
      "..                     ...  \n",
      "495                      1  \n",
      "496                      1  \n",
      "497                      1  \n",
      "498                      1  \n",
      "499                      1  \n",
      "\n",
      "[500 rows x 4 columns] \n",
      "\n",
      "*****************************************************************************************\n",
      "\n",
      "\n",
      "L-BFGS-B \n",
      "\n",
      "     Resultado de cada variable         Óptimo  Tiempo de Ejecución  \\\n",
      "0                      3.079688  101565.811126                24608   \n",
      "1                     -0.889638  101565.811126                24608   \n",
      "2                      0.328394  101565.811126                24608   \n",
      "3                      3.189043  101565.811126                24608   \n",
      "4                     -0.674150  101565.811126                24608   \n",
      "..                          ...            ...                  ...   \n",
      "495                    1.520356  101565.811126                24608   \n",
      "496                    2.482363  101565.811126                24608   \n",
      "497                   -0.848797  101565.811126                24608   \n",
      "498                    3.148914  101565.811126                24608   \n",
      "499                    1.123092  101565.811126                24608   \n",
      "\n",
      "     Número de Iteraciones  \n",
      "0                       18  \n",
      "1                       18  \n",
      "2                       18  \n",
      "3                       18  \n",
      "4                       18  \n",
      "..                     ...  \n",
      "495                     18  \n",
      "496                     18  \n",
      "497                     18  \n",
      "498                     18  \n",
      "499                     18  \n",
      "\n",
      "[500 rows x 4 columns] \n",
      "\n",
      "*****************************************************************************************\n",
      "\n",
      "\n"
     ]
    },
    {
     "ename": "KeyboardInterrupt",
     "evalue": "",
     "output_type": "error",
     "traceback": [
      "\u001b[1;31m---------------------------------------------------------------------------\u001b[0m",
      "\u001b[1;31mKeyboardInterrupt\u001b[0m                         Traceback (most recent call last)",
      "Cell \u001b[1;32mIn[7], line 1\u001b[0m\n\u001b[1;32m----> 1\u001b[0m \u001b[43mTest\u001b[49m\u001b[43m(\u001b[49m\u001b[43mfun\u001b[49m\u001b[38;5;241;43m.\u001b[39;49m\u001b[43mBrownFunction\u001b[49m\u001b[43m,\u001b[49m\u001b[43m[\u001b[49m\u001b[38;5;241;43m0\u001b[39;49m\u001b[43m \u001b[49m\u001b[38;5;28;43;01mfor\u001b[39;49;00m\u001b[43m \u001b[49m\u001b[43m_\u001b[49m\u001b[43m \u001b[49m\u001b[38;5;129;43;01min\u001b[39;49;00m\u001b[43m \u001b[49m\u001b[38;5;28;43mrange\u001b[39;49m\u001b[43m(\u001b[49m\u001b[38;5;241;43m10\u001b[39;49m\u001b[43m)\u001b[49m\u001b[43m]\u001b[49m\u001b[43m,\u001b[49m\u001b[38;5;124;43m'\u001b[39;49m\u001b[38;5;124;43m25\u001b[39;49m\u001b[38;5;124;43m'\u001b[39;49m\u001b[43m)\u001b[49m\n",
      "File \u001b[1;32mc:\\Users\\paco2\\PycharmProjects\\Proyecto Optimización\\helper.py:88\u001b[0m, in \u001b[0;36mTest\u001b[1;34m(fun, min_value, excercise, methods, method_names, have_bounds, d)\u001b[0m\n\u001b[0;32m     86\u001b[0m \u001b[38;5;28;01mif\u001b[39;00m(\u001b[38;5;129;01mnot\u001b[39;00m have_bounds[i]):\n\u001b[0;32m     87\u001b[0m         bounds\u001b[38;5;241m=\u001b[39m\u001b[38;5;28;01mNone\u001b[39;00m\n\u001b[1;32m---> 88\u001b[0m data,method\u001b[38;5;241m=\u001b[39m\u001b[43mmet\u001b[49m\u001b[43m(\u001b[49m\u001b[43mf\u001b[49m\u001b[38;5;241;43m=\u001b[39;49m\u001b[43mfx\u001b[49m\u001b[43m,\u001b[49m\u001b[43mx0\u001b[49m\u001b[38;5;241;43m=\u001b[39;49m\u001b[43mx0\u001b[49m\u001b[43m,\u001b[49m\u001b[43mbounds\u001b[49m\u001b[38;5;241;43m=\u001b[39;49m\u001b[43mbounds\u001b[49m\u001b[43m,\u001b[49m\u001b[43mn\u001b[49m\u001b[38;5;241;43m=\u001b[39;49m\u001b[43mn\u001b[49m\u001b[43m,\u001b[49m\u001b[43me\u001b[49m\u001b[38;5;241;43m=\u001b[39;49m\u001b[43mexcercise\u001b[49m\u001b[43m)\u001b[49m\n\u001b[0;32m     90\u001b[0m \u001b[38;5;28mprint\u001b[39m(method,\u001b[38;5;124m'\u001b[39m\u001b[38;5;130;01m\\n\u001b[39;00m\u001b[38;5;124m'\u001b[39m)\n\u001b[0;32m     91\u001b[0m \u001b[38;5;28mprint\u001b[39m(data,\u001b[38;5;124m'\u001b[39m\u001b[38;5;130;01m\\n\u001b[39;00m\u001b[38;5;124m'\u001b[39m)\n",
      "File \u001b[1;32mc:\\Users\\paco2\\PycharmProjects\\Proyecto Optimización\\helper.py:70\u001b[0m, in \u001b[0;36m<lambda>\u001b[1;34m(f, x0, bounds, n, e)\u001b[0m\n\u001b[0;32m     64\u001b[0m         \u001b[38;5;66;03m# Guarda el DataFrame en el archivo\u001b[39;00m\n\u001b[0;32m     65\u001b[0m         dataframe\u001b[38;5;241m.\u001b[39mto_excel(ruta, index\u001b[38;5;241m=\u001b[39m\u001b[38;5;28;01mFalse\u001b[39;00m)\n\u001b[1;32m---> 70\u001b[0m Nelder_Mead\u001b[38;5;241m=\u001b[39m\u001b[38;5;28;01mlambda\u001b[39;00m f,x0,bounds,n,e:\u001b[43moptimizeFun\u001b[49m\u001b[43m(\u001b[49m\u001b[43mf\u001b[49m\u001b[38;5;241;43m=\u001b[39;49m\u001b[43mf\u001b[49m\u001b[43m,\u001b[49m\u001b[43mx0\u001b[49m\u001b[38;5;241;43m=\u001b[39;49m\u001b[43mx0\u001b[49m\u001b[43m,\u001b[49m\u001b[43mbounds\u001b[49m\u001b[38;5;241;43m=\u001b[39;49m\u001b[43mbounds\u001b[49m\u001b[43m,\u001b[49m\u001b[43mmethod_name\u001b[49m\u001b[38;5;241;43m=\u001b[39;49m\u001b[38;5;124;43m'\u001b[39;49m\u001b[38;5;124;43mNelder-Mead\u001b[39;49m\u001b[38;5;124;43m'\u001b[39;49m\u001b[43m,\u001b[49m\u001b[43mn\u001b[49m\u001b[38;5;241;43m=\u001b[39;49m\u001b[43mn\u001b[49m\u001b[43m,\u001b[49m\u001b[43mexercise\u001b[49m\u001b[38;5;241;43m=\u001b[39;49m\u001b[43me\u001b[49m\u001b[43m)\u001b[49m\n\u001b[0;32m     71\u001b[0m SLSQP\u001b[38;5;241m=\u001b[39m\u001b[38;5;28;01mlambda\u001b[39;00m f,x0,bounds,n,e: optimizeFun(f\u001b[38;5;241m=\u001b[39mf,x0\u001b[38;5;241m=\u001b[39mx0,bounds\u001b[38;5;241m=\u001b[39mbounds,n\u001b[38;5;241m=\u001b[39mn,method_name\u001b[38;5;241m=\u001b[39m\u001b[38;5;124m'\u001b[39m\u001b[38;5;124mSLSQP\u001b[39m\u001b[38;5;124m'\u001b[39m,exercise\u001b[38;5;241m=\u001b[39me) \n\u001b[0;32m     72\u001b[0m L_BFGS_B\u001b[38;5;241m=\u001b[39m\u001b[38;5;28;01mlambda\u001b[39;00m f,x0,bounds,n,e:optimizeFun(f\u001b[38;5;241m=\u001b[39mf,x0\u001b[38;5;241m=\u001b[39mx0,bounds\u001b[38;5;241m=\u001b[39mbounds,n\u001b[38;5;241m=\u001b[39mn,method_name\u001b[38;5;241m=\u001b[39m\u001b[38;5;124m'\u001b[39m\u001b[38;5;124mL-BFGS-B\u001b[39m\u001b[38;5;124m'\u001b[39m,exercise\u001b[38;5;241m=\u001b[39me)\n",
      "File \u001b[1;32mc:\\Users\\paco2\\PycharmProjects\\Proyecto Optimización\\helper.py:22\u001b[0m, in \u001b[0;36moptimizeFun\u001b[1;34m(f, x0, bounds, method_name, n, exercise)\u001b[0m\n\u001b[0;32m     20\u001b[0m \u001b[38;5;28;01mdef\u001b[39;00m \u001b[38;5;21moptimizeFun\u001b[39m(f,x0,bounds,method_name,n,exercise):\n\u001b[0;32m     21\u001b[0m         start_time \u001b[38;5;241m=\u001b[39m time\u001b[38;5;241m.\u001b[39mperf_counter()\n\u001b[1;32m---> 22\u001b[0m         res \u001b[38;5;241m=\u001b[39m  \u001b[43mminimize\u001b[49m\u001b[43m(\u001b[49m\u001b[43mfun\u001b[49m\u001b[38;5;241;43m=\u001b[39;49m\u001b[43mf\u001b[49m\u001b[43m,\u001b[49m\u001b[43m \u001b[49m\u001b[43mx0\u001b[49m\u001b[38;5;241;43m=\u001b[39;49m\u001b[43mx0\u001b[49m\u001b[43m,\u001b[49m\u001b[43m \u001b[49m\u001b[43mbounds\u001b[49m\u001b[38;5;241;43m=\u001b[39;49m\u001b[43mbounds\u001b[49m\u001b[43m,\u001b[49m\u001b[43m \u001b[49m\u001b[43mmethod\u001b[49m\u001b[38;5;241;43m=\u001b[39;49m\u001b[43mmethod_name\u001b[49m\u001b[43m)\u001b[49m \n\u001b[0;32m     23\u001b[0m         end_time \u001b[38;5;241m=\u001b[39m time\u001b[38;5;241m.\u001b[39mperf_counter()\n\u001b[0;32m     24\u001b[0m         execution_time_ms \u001b[38;5;241m=\u001b[39m \u001b[38;5;28mint\u001b[39m((end_time \u001b[38;5;241m-\u001b[39m start_time) \u001b[38;5;241m*\u001b[39m \u001b[38;5;241m1000\u001b[39m)\n",
      "File \u001b[1;32mc:\\Users\\paco2\\PycharmProjects\\Proyecto Optimización\\venv\\Lib\\site-packages\\scipy\\optimize\\_minimize.py:698\u001b[0m, in \u001b[0;36mminimize\u001b[1;34m(fun, x0, args, method, jac, hess, hessp, bounds, constraints, tol, callback, options)\u001b[0m\n\u001b[0;32m    695\u001b[0m callback \u001b[38;5;241m=\u001b[39m _wrap_callback(callback, meth)\n\u001b[0;32m    697\u001b[0m \u001b[38;5;28;01mif\u001b[39;00m meth \u001b[38;5;241m==\u001b[39m \u001b[38;5;124m'\u001b[39m\u001b[38;5;124mnelder-mead\u001b[39m\u001b[38;5;124m'\u001b[39m:\n\u001b[1;32m--> 698\u001b[0m     res \u001b[38;5;241m=\u001b[39m \u001b[43m_minimize_neldermead\u001b[49m\u001b[43m(\u001b[49m\u001b[43mfun\u001b[49m\u001b[43m,\u001b[49m\u001b[43m \u001b[49m\u001b[43mx0\u001b[49m\u001b[43m,\u001b[49m\u001b[43m \u001b[49m\u001b[43margs\u001b[49m\u001b[43m,\u001b[49m\u001b[43m \u001b[49m\u001b[43mcallback\u001b[49m\u001b[43m,\u001b[49m\u001b[43m \u001b[49m\u001b[43mbounds\u001b[49m\u001b[38;5;241;43m=\u001b[39;49m\u001b[43mbounds\u001b[49m\u001b[43m,\u001b[49m\n\u001b[0;32m    699\u001b[0m \u001b[43m                               \u001b[49m\u001b[38;5;241;43m*\u001b[39;49m\u001b[38;5;241;43m*\u001b[39;49m\u001b[43moptions\u001b[49m\u001b[43m)\u001b[49m\n\u001b[0;32m    700\u001b[0m \u001b[38;5;28;01melif\u001b[39;00m meth \u001b[38;5;241m==\u001b[39m \u001b[38;5;124m'\u001b[39m\u001b[38;5;124mpowell\u001b[39m\u001b[38;5;124m'\u001b[39m:\n\u001b[0;32m    701\u001b[0m     res \u001b[38;5;241m=\u001b[39m _minimize_powell(fun, x0, args, callback, bounds, \u001b[38;5;241m*\u001b[39m\u001b[38;5;241m*\u001b[39moptions)\n",
      "File \u001b[1;32mc:\\Users\\paco2\\PycharmProjects\\Proyecto Optimización\\venv\\Lib\\site-packages\\scipy\\optimize\\_optimize.py:916\u001b[0m, in \u001b[0;36m_minimize_neldermead\u001b[1;34m(func, x0, args, callback, maxiter, maxfev, disp, return_all, initial_simplex, xatol, fatol, adaptive, bounds, **unknown_options)\u001b[0m\n\u001b[0;32m    914\u001b[0m \u001b[38;5;28;01mwhile\u001b[39;00m (fcalls[\u001b[38;5;241m0\u001b[39m] \u001b[38;5;241m<\u001b[39m maxfun \u001b[38;5;129;01mand\u001b[39;00m iterations \u001b[38;5;241m<\u001b[39m maxiter):\n\u001b[0;32m    915\u001b[0m     \u001b[38;5;28;01mtry\u001b[39;00m:\n\u001b[1;32m--> 916\u001b[0m         \u001b[38;5;28;01mif\u001b[39;00m (\u001b[43mnp\u001b[49m\u001b[38;5;241;43m.\u001b[39;49m\u001b[43mmax\u001b[49m\u001b[43m(\u001b[49m\u001b[43mnp\u001b[49m\u001b[38;5;241;43m.\u001b[39;49m\u001b[43mravel\u001b[49m\u001b[43m(\u001b[49m\u001b[43mnp\u001b[49m\u001b[38;5;241;43m.\u001b[39;49m\u001b[43mabs\u001b[49m\u001b[43m(\u001b[49m\u001b[43msim\u001b[49m\u001b[43m[\u001b[49m\u001b[38;5;241;43m1\u001b[39;49m\u001b[43m:\u001b[49m\u001b[43m]\u001b[49m\u001b[43m \u001b[49m\u001b[38;5;241;43m-\u001b[39;49m\u001b[43m \u001b[49m\u001b[43msim\u001b[49m\u001b[43m[\u001b[49m\u001b[38;5;241;43m0\u001b[39;49m\u001b[43m]\u001b[49m\u001b[43m)\u001b[49m\u001b[43m)\u001b[49m\u001b[43m)\u001b[49m \u001b[38;5;241m<\u001b[39m\u001b[38;5;241m=\u001b[39m xatol \u001b[38;5;129;01mand\u001b[39;00m\n\u001b[0;32m    917\u001b[0m                 np\u001b[38;5;241m.\u001b[39mmax(np\u001b[38;5;241m.\u001b[39mabs(fsim[\u001b[38;5;241m0\u001b[39m] \u001b[38;5;241m-\u001b[39m fsim[\u001b[38;5;241m1\u001b[39m:])) \u001b[38;5;241m<\u001b[39m\u001b[38;5;241m=\u001b[39m fatol):\n\u001b[0;32m    918\u001b[0m             \u001b[38;5;28;01mbreak\u001b[39;00m\n\u001b[0;32m    920\u001b[0m         xbar \u001b[38;5;241m=\u001b[39m np\u001b[38;5;241m.\u001b[39madd\u001b[38;5;241m.\u001b[39mreduce(sim[:\u001b[38;5;241m-\u001b[39m\u001b[38;5;241m1\u001b[39m], \u001b[38;5;241m0\u001b[39m) \u001b[38;5;241m/\u001b[39m N\n",
      "File \u001b[1;32mc:\\Users\\paco2\\PycharmProjects\\Proyecto Optimización\\venv\\Lib\\site-packages\\numpy\\core\\fromnumeric.py:2810\u001b[0m, in \u001b[0;36mmax\u001b[1;34m(a, axis, out, keepdims, initial, where)\u001b[0m\n\u001b[0;32m   2692\u001b[0m \u001b[38;5;129m@array_function_dispatch\u001b[39m(_max_dispatcher)\n\u001b[0;32m   2693\u001b[0m \u001b[38;5;129m@set_module\u001b[39m(\u001b[38;5;124m'\u001b[39m\u001b[38;5;124mnumpy\u001b[39m\u001b[38;5;124m'\u001b[39m)\n\u001b[0;32m   2694\u001b[0m \u001b[38;5;28;01mdef\u001b[39;00m \u001b[38;5;21mmax\u001b[39m(a, axis\u001b[38;5;241m=\u001b[39m\u001b[38;5;28;01mNone\u001b[39;00m, out\u001b[38;5;241m=\u001b[39m\u001b[38;5;28;01mNone\u001b[39;00m, keepdims\u001b[38;5;241m=\u001b[39mnp\u001b[38;5;241m.\u001b[39m_NoValue, initial\u001b[38;5;241m=\u001b[39mnp\u001b[38;5;241m.\u001b[39m_NoValue,\n\u001b[0;32m   2695\u001b[0m          where\u001b[38;5;241m=\u001b[39mnp\u001b[38;5;241m.\u001b[39m_NoValue):\n\u001b[0;32m   2696\u001b[0m \u001b[38;5;250m    \u001b[39m\u001b[38;5;124;03m\"\"\"\u001b[39;00m\n\u001b[0;32m   2697\u001b[0m \u001b[38;5;124;03m    Return the maximum of an array or maximum along an axis.\u001b[39;00m\n\u001b[0;32m   2698\u001b[0m \n\u001b[1;32m   (...)\u001b[0m\n\u001b[0;32m   2808\u001b[0m \u001b[38;5;124;03m    5\u001b[39;00m\n\u001b[0;32m   2809\u001b[0m \u001b[38;5;124;03m    \"\"\"\u001b[39;00m\n\u001b[1;32m-> 2810\u001b[0m     \u001b[38;5;28;01mreturn\u001b[39;00m \u001b[43m_wrapreduction\u001b[49m\u001b[43m(\u001b[49m\u001b[43ma\u001b[49m\u001b[43m,\u001b[49m\u001b[43m \u001b[49m\u001b[43mnp\u001b[49m\u001b[38;5;241;43m.\u001b[39;49m\u001b[43mmaximum\u001b[49m\u001b[43m,\u001b[49m\u001b[43m \u001b[49m\u001b[38;5;124;43m'\u001b[39;49m\u001b[38;5;124;43mmax\u001b[39;49m\u001b[38;5;124;43m'\u001b[39;49m\u001b[43m,\u001b[49m\u001b[43m \u001b[49m\u001b[43maxis\u001b[49m\u001b[43m,\u001b[49m\u001b[43m \u001b[49m\u001b[38;5;28;43;01mNone\u001b[39;49;00m\u001b[43m,\u001b[49m\u001b[43m \u001b[49m\u001b[43mout\u001b[49m\u001b[43m,\u001b[49m\n\u001b[0;32m   2811\u001b[0m \u001b[43m                          \u001b[49m\u001b[43mkeepdims\u001b[49m\u001b[38;5;241;43m=\u001b[39;49m\u001b[43mkeepdims\u001b[49m\u001b[43m,\u001b[49m\u001b[43m \u001b[49m\u001b[43minitial\u001b[49m\u001b[38;5;241;43m=\u001b[39;49m\u001b[43minitial\u001b[49m\u001b[43m,\u001b[49m\u001b[43m \u001b[49m\u001b[43mwhere\u001b[49m\u001b[38;5;241;43m=\u001b[39;49m\u001b[43mwhere\u001b[49m\u001b[43m)\u001b[49m\n",
      "File \u001b[1;32mc:\\Users\\paco2\\PycharmProjects\\Proyecto Optimización\\venv\\Lib\\site-packages\\numpy\\core\\fromnumeric.py:88\u001b[0m, in \u001b[0;36m_wrapreduction\u001b[1;34m(obj, ufunc, method, axis, dtype, out, **kwargs)\u001b[0m\n\u001b[0;32m     85\u001b[0m         \u001b[38;5;28;01melse\u001b[39;00m:\n\u001b[0;32m     86\u001b[0m             \u001b[38;5;28;01mreturn\u001b[39;00m reduction(axis\u001b[38;5;241m=\u001b[39maxis, out\u001b[38;5;241m=\u001b[39mout, \u001b[38;5;241m*\u001b[39m\u001b[38;5;241m*\u001b[39mpasskwargs)\n\u001b[1;32m---> 88\u001b[0m \u001b[38;5;28;01mreturn\u001b[39;00m \u001b[43mufunc\u001b[49m\u001b[38;5;241;43m.\u001b[39;49m\u001b[43mreduce\u001b[49m\u001b[43m(\u001b[49m\u001b[43mobj\u001b[49m\u001b[43m,\u001b[49m\u001b[43m \u001b[49m\u001b[43maxis\u001b[49m\u001b[43m,\u001b[49m\u001b[43m \u001b[49m\u001b[43mdtype\u001b[49m\u001b[43m,\u001b[49m\u001b[43m \u001b[49m\u001b[43mout\u001b[49m\u001b[43m,\u001b[49m\u001b[43m \u001b[49m\u001b[38;5;241;43m*\u001b[39;49m\u001b[38;5;241;43m*\u001b[39;49m\u001b[43mpasskwargs\u001b[49m\u001b[43m)\u001b[49m\n",
      "\u001b[1;31mKeyboardInterrupt\u001b[0m: "
     ]
    }
   ],
   "source": [
    "Test(fun.BrownFunction,[0 for _ in range(10)],'25')"
   ]
  },
  {
   "cell_type": "markdown",
   "id": "63f5f53c",
   "metadata": {},
   "source": [
    "#### Vector esperado:"
   ]
  },
  {
   "cell_type": "markdown",
   "id": "7f56f721",
   "metadata": {},
   "source": [
    "$$\n",
    "x^{*}=(0,0,....,0)\n",
    "$$"
   ]
  },
  {
   "cell_type": "markdown",
   "id": "ba6a8d06",
   "metadata": {},
   "source": [
    "### Análisis de los resultados:\n"
   ]
  },
  {
   "cell_type": "markdown",
   "id": "608b8a08",
   "metadata": {},
   "source": [
    "#### SLSQP:\n",
    "Tiene problemas para encontrar el óptimo en todos los casos por ejemplo para $N=10$ no devuelve correctamente los valores de los $x_i$ dado que por ejemplo en $x_1$ el valor asignado es 3 el cual está muy \"alejado\" de cero y estos errores se amplifican mientras mayor sea el $N$ de la sumatoria estos errores son debido principalmente a los errores del cálculo cumpatacional y la misma función la cual dado fu forma exponencial presenta grandes facilidades a los errores en el cálculo de derivadas. En cuanto al número de iteraciones  se ve una disminución desde 24 hasta 1 para $N>50$  debido a los errores mencionados anteriormente lo cual lleva a que apartir de estos N no sea fiable los resultados que nos entregan el método.\n"
   ]
  },
  {
   "cell_type": "markdown",
   "id": "d3232028",
   "metadata": {},
   "source": [
    "#### L-BFGS-B:\n",
    " Este algoritmo aunque en un inicio tiene como promedio de valores más fiables que el método anterior, los valores de las variables siguen sin poder cumplir los requisitos de estar en una vecindad de 0, aunque los valores optimos de la función objetivo erán más pequeños que los anteriores los errores de cálculo están presente desde el inicio, volviendo a recalcar lo no común que es la derivada de esta función que al ser ejecutada tal operación en métodos numéricos aumentan las probabilidades de error, para valores de N entorno a 270 empieza dar valores de la función objetivo muy alejados del esperado, los errores acumulados por el alto nivel de variables provoca que no sea recomendado en este caso. "
   ]
  },
  {
   "cell_type": "markdown",
   "id": "fda6a5ed",
   "metadata": {},
   "source": [
    "#### Nelder-Mead: \n",
    "Aunque no contempla las restricciones este método, para valores de N entorno a los 10 entrega resultados aceptables numéricamente, aunque esto es solo si se parte desde vecindades del valor buscado, lo que en la práctica no sería viable dado que en caso de no conocer una región inicial no son fiables los resultados. El número de pasos es muy elevado en comparación con los anteriores."
   ]
  }
 ],
 "metadata": {
  "kernelspec": {
   "display_name": "Python 3",
   "language": "python",
   "name": "python3"
  },
  "language_info": {
   "codemirror_mode": {
    "name": "ipython",
    "version": 3
   },
   "file_extension": ".py",
   "mimetype": "text/x-python",
   "name": "python",
   "nbconvert_exporter": "python",
   "pygments_lexer": "ipython3",
   "version": "3.11.7"
  }
 },
 "nbformat": 4,
 "nbformat_minor": 5
}
