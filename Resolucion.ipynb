{
 "cells": [
  {
   "cell_type": "markdown",
   "id": "1333b98f15898ec8",
   "metadata": {
    "collapsed": false
   },
   "source": [
    " # Proyecto de  Modelos de Optimización "
   ]
  },
  {
   "cell_type": "markdown",
   "id": "1c959588f06a3b75",
   "metadata": {
    "collapsed": false
   },
   "source": [
    "### Integrantes:\n",
    "- Leonardo Amaro\n",
    "- Alfredo Montero\n",
    "- Antuán Montes de Oca\n",
    "- Francisco Vicente Suárez"
   ]
  },
  {
   "cell_type": "markdown",
   "id": "3271f12ebf9f0ff7",
   "metadata": {
    "collapsed": false
   },
   "source": [
    "En este proyecto, presentamos el análisis de problemas de optimización no lineal. Para ello, hemos seleccionado ciertos métodos basándonos en fundamentos sólidos. Nuestra elección se justifica en la eficacia de estos métodos para resolver problemas complejos de optimización."
   ]
  },
  {
   "cell_type": "markdown",
   "id": "666cb2bf",
   "metadata": {},
   "source": [
    "#### Particularidades comunes de los problemas:\n",
    "- Problemas de Optimización no lineales.\n",
    "- Las restricciones son lineales.\n",
    "- Las restricciones son únicamente con respecto al valor máximo y/o mínimo de cada variable.\n",
    "\n"
   ]
  },
  {
   "cell_type": "markdown",
   "id": "1e5442fb",
   "metadata": {},
   "source": [
    "## Métodos Seleccionados:\n"
   ]
  },
  {
   "cell_type": "markdown",
   "id": "d4e3582b",
   "metadata": {},
   "source": [
    "### Sequential Least Squares Programming:\n",
    "\n",
    "El método Sequential Least Squares Programming (SLSQP) es un método de optimización no lineal versátil y eficiente que se puede aplicar a una amplia gama de problemas, tanto con restricciones como sin restricciones. Es una buena opción para problemas que requieren una combinación de eficiencia y versatilidad. Entre sus bondades se encuentran su versatilidad, eficiencia y facilidad de implementación. Sin embargo, también tiene algunas limitaciones, como no ser tan robusto como otros métodos y requerir la evaluación de la función objetivo y sus derivadas en cada paso del algoritmo de optimización. Algunos casos de uso típicos del SLSQP incluyen la optimización de funciones no lineales con restricciones, la resolución de problemas de programación lineal con restricciones no lineales y la optimización de problemas de ingeniería.\n"
   ]
  },
  {
   "cell_type": "markdown",
   "id": "a0951077",
   "metadata": {},
   "source": [
    "### L-BFGS-B :\n",
    "\n",
    "L-BFGS-B es un método de optimización no lineal que funciona bien en problemas con restricciones simples (del tipo $l_i \\leq x_i \\leq u_i$, siendo $l_i$ y $u_i$ límites inferiores y superiores respectivamente. Es una versión modificada del método BFGS que permite incluir restricciones en las variables. Las principales ventajas de este método son que es rápido, eficiente y robusto. El método funciona construyendo una matriz hessiana inversa aproximada, que se utiliza para calcular la dirección de descenso de la función objetivo. La matriz hessiana inversa aproximada se construye utilizando información de la función objetivo y de los puntos de búsqueda anteriores. El proceso se repite hasta que la función objetivo converge a un mínimo. L-BFGS-B es adecuado para problemas no lineales porque no requiere información sobre las derivadas de la función objetivo. También es robusto y eficiente, lo que significa que puede funcionar bien en una amplia gama de problemas.\n",
    "\n",
    "Se utiliza para realizar una comparación con respeto a SLSQP (dado que nuestros problemas cumplen con sus hipótesis) dado que en este se busca aproximaciones que en teoría deben de disminuir la cantidad de pasos así como los requerimientos de cómputo"
   ]
  },
  {
   "cell_type": "markdown",
   "id": "9c237a3c",
   "metadata": {},
   "source": [
    "### Nelder-Mead:\n",
    "\n",
    "El método Nelder-Mead es un método de optimización no lineal sin restricciones que utiliza una búsqueda por coordenadas para encontrar el mínimo de una función. Las principales ventajas de este método son que es simple de implementar y puede converger rápidamente a una solución óptima local. El método funciona construyendo un simplex, que es una figura geométrica con N+1 vértices. El simplex se mueve a través del espacio de búsqueda mediante cuatro operaciones básicas: reflexión, expansión, contracción y shrinking. La reflexión mueve el simplex a través del punto más alejado de la función objetivo. La expansión mueve el simplex aún más lejos de este punto. La contracción mueve el simplex hacia el punto más cercano a la función objetivo. El shrinking contrae uniformemente el simplex. El proceso se repite hasta que el simplex converge a un punto que se considera una solución óptima local. Este método es adecuado para problemas no lineales porque no requiere información sobre las derivadas de la función objetivo; lo cual corresponde con el tipo de problemas que estamos analizando. También es robusto y eficiente, lo que significa que puede funcionar bien en una amplia gama de problemas.\n",
    "\n",
    "Este es utilizado en este caso para hacer la comparación al realizar una transformación de cada  problema a uno sin restricciones.\n"
   ]
  },
  {
   "cell_type": "code",
   "execution_count": 2,
   "id": "24e42a4e",
   "metadata": {},
   "outputs": [],
   "source": [
    "from helper import Test\n",
    "import helper as hp\n",
    "import functions as fun"
   ]
  },
  {
   "cell_type": "code",
   "execution_count": 3,
   "id": "595fc40f",
   "metadata": {},
   "outputs": [],
   "source": [
    "\n",
    "Nelder_Mead=lambda f,x0,bounds,n,e:hp.optimizeFun(f=f,x0=x0,bounds=bounds,method_name='Nelder-Mead',n=n,exercise=e)\n",
    "SLSQP=lambda f,x0,bounds,n,e: hp.optimizeFun(f=f,x0=x0,bounds=bounds,n=n,method_name='SLSQP',exercise=e) \n",
    "L_BFGS_B=lambda f,x0,bounds,n,e:hp.optimizeFun(f=f,x0=x0,bounds=bounds,n=n,method_name='L-BFGS-B',exercise=e)"
   ]
  },
  {
   "cell_type": "markdown",
   "id": "9115031848ec8c8c",
   "metadata": {
    "collapsed": false
   },
   "source": [
    "## Ejercicio 21"
   ]
  },
  {
   "cell_type": "markdown",
   "id": "a59b604a8f3b71ad",
   "metadata": {
    "collapsed": false
   },
   "source": [
    "#### Box-Betts Quadratic Sum Function"
   ]
  },
  {
   "cell_type": "markdown",
   "id": "35560e0c03394fd4",
   "metadata": {
    "collapsed": false
   },
   "source": [
    "Continua, Diferenciable, No Separable,\n",
    "No Escalable, Multimodal"
   ]
  },
  {
   "cell_type": "markdown",
   "id": "9b1d1627d7c301ba",
   "metadata": {
    "collapsed": false
   },
   "source": [
    "$$\n",
    "f(x)= \\sum_ {i=1}^n g(x)^{2}  \n",
    "\n",
    "$$"
   ]
  },
  {
   "cell_type": "markdown",
   "id": "c0519f57be5b6d15",
   "metadata": {
    "collapsed": false
   },
   "source": [
    "$$\n",
    "g(x)= e^{-0.1*(i+1)x_1}-e^{-0.1*(i+1)x_2}-e^{({(-0.1*(i+1))*-e^{-(i+1)}})x_3}\n",
    "$$\n"
   ]
  },
  {
   "cell_type": "markdown",
   "id": "4125611831bf411d",
   "metadata": {
    "collapsed": false
   },
   "source": [
    "###### sujeto a:"
   ]
  },
  {
   "cell_type": "markdown",
   "id": "37b5f5cf2888c2f5",
   "metadata": {
    "collapsed": false
   },
   "source": [
    "$$\n",
    "0.9 \\leq x_1 \\leq 1.2,\n",
    "9 \\leq x_2 \\leq 11.2,\n",
    "0.9 \\leq x_3 \\leq 1.2\n",
    "\n",
    "\n",
    "$$"
   ]
  },
  {
   "cell_type": "code",
   "execution_count": null,
   "id": "de8220f7",
   "metadata": {},
   "outputs": [],
   "source": [
    "Test(fun.BoxBettsFun,[1,10,1],'21')"
   ]
  },
  {
   "cell_type": "markdown",
   "id": "86168cce41c1f3ac",
   "metadata": {
    "collapsed": false
   },
   "source": [
    "#### Vector Esperado :"
   ]
  },
  {
   "cell_type": "markdown",
   "id": "ed4adacf90496674",
   "metadata": {
    "collapsed": false
   },
   "source": [
    "$$\n",
    "x^* = (1,10,1)\n",
    "$$"
   ]
  },
  {
   "cell_type": "markdown",
   "id": "36da4456",
   "metadata": {},
   "source": [
    "### Análisis de los resultados:"
   ]
  },
  {
   "cell_type": "markdown",
   "id": "9746289e",
   "metadata": {},
   "source": [
    "#### SLSQP:\n",
    "Encontró un mínimo que satisface el conjunto de restricciones y numéricamente es el mismo que el esperado (0) , las razones por las que difieren los valores de las variables con los esperados pueden ser por errores númericos de la aritmética al trabajar con valores tan cercanos a cero dado que para valores cercanos a $(1,10,1)$ converge rápidamente a la solución óptima. Se mantiene el mismo criterio para todo valor de N. El número de iteraciones se mantuvo entorno a los 13 siendo 14 para $N=10$\n",
    "esta disminución se debe a que por la misma naturaleza de los valores de\n",
    "$g(x)$  hayan valores que no aporten a la suma por los errores numéricos."
   ]
  },
  {
   "cell_type": "markdown",
   "id": "fbe40a98",
   "metadata": {},
   "source": [
    "#### L-BFGS-B: \n",
    "Encontró un mínimo que satisface el conjunto de restricciones y númericamente es el mismo que el esperado (0),se visualizán los mismos errores númericos explicados anteriormente, en todo momento la convergencia fue más rápida en el orden de 3-4 pasos y 25% tiempo con respecto al anterior dado que este no se basa en soluciones \"exactas\" sino que utiliza aproximaciones de la matriz Hessiana. También es mucho más eficiente a nivel de memoria."
   ]
  },
  {
   "cell_type": "markdown",
   "id": "1bb33b87",
   "metadata": {},
   "source": [
    "#### Nelder-Mead:\n",
    "Encuentra una soluciones óptimas en varios puntos, los valores de las variables no satisfacen las restricciones. Esto se debe a que no trabajan sobre el conjunto de restricciones. Tiene un muy elevado número de pasos \"cientos\" y recursos computacionales, lo cual evidencia que para este tipo de problemas no es conveniente utilizarlo."
   ]
  },
  {
   "cell_type": "markdown",
   "id": "b6ff2c158950aba7",
   "metadata": {
    "collapsed": false
   },
   "source": [
    "## Ejercicio 34"
   ]
  },
  {
   "cell_type": "markdown",
   "id": "7e4afda8",
   "metadata": {},
   "source": [
    "### Chung Reynolds Function\n"
   ]
  },
  {
   "cell_type": "markdown",
   "id": "a6884197",
   "metadata": {},
   "source": [
    "Continua, Diferenciable, Parcialmente Separable, Escalable, Unimodal"
   ]
  },
  {
   "cell_type": "markdown",
   "id": "aef1cd47",
   "metadata": {},
   "source": [
    "$$\n",
    "f(x) = (\\sum_ {i=1}^n (x_i^2))^2\n",
    "$$"
   ]
  },
  {
   "cell_type": "markdown",
   "id": "433b6dbb",
   "metadata": {},
   "source": [
    "###### sujeto a:"
   ]
  },
  {
   "cell_type": "markdown",
   "id": "bb6a7ee4",
   "metadata": {},
   "source": [
    "$-100 \\leq x_i \\leq 100$"
   ]
  },
  {
   "cell_type": "code",
   "execution_count": null,
   "id": "99c7d2c1",
   "metadata": {},
   "outputs": [],
   "source": [
    "Test(fun=fun.ChungReynolds,min_value=[0,0,0],excercise='34')"
   ]
  },
  {
   "cell_type": "markdown",
   "id": "beb343f19ba1476b",
   "metadata": {
    "collapsed": false
   },
   "source": [
    "#### Vector Esperado :"
   ]
  },
  {
   "cell_type": "markdown",
   "id": "ac498b3145986e2e",
   "metadata": {
    "collapsed": false
   },
   "source": [
    "$$\n",
    "x^* = (0,0,....,0)\n",
    "$$"
   ]
  },
  {
   "cell_type": "markdown",
   "id": "31b22a98",
   "metadata": {},
   "source": [
    "### Análisis de los resultados:"
   ]
  },
  {
   "cell_type": "markdown",
   "id": "c817807d",
   "metadata": {},
   "source": [
    "#### SLSQP:\n",
    "Encontró un mínimo que satisface el conjunto de restricciones y númericamente es el mismo que el esperado (0), aunque por problemas de la aritmética para valores N &ge; 100  se empieza a ver que se aleja del óptimo,  siendo así que en con N=100 y N=500 los valores se alejan del óptimo. En cuanto a iteraciones para $N \\leq 100$ se mantiene sobre los 53 - 100 pasos, para valores cercanos a 500 puede verse como desde la primera iteración nos devuelve un resultado, siendo este erróneo por errores aritméticos en el cálculo matricial."
   ]
  },
  {
   "cell_type": "markdown",
   "id": "3f2ff17b",
   "metadata": {},
   "source": [
    "#### L-BFGS-B:\n",
    " En este se encuentran igualmente los óptimos y ocurren los mismos errores aunque en este puede verse los errores a partir de $N=100$. El número de iteraciones se mantiene por debajo del anterior método siendo mayor su tendencia mientras mayor es el N."
   ]
  },
  {
   "cell_type": "markdown",
   "id": "d2900303",
   "metadata": {},
   "source": [
    "#### Nelder-Mead: \n",
    "Número de iteraciones en el orden de las miles, no terminó después de 10 minutos de completar para $N=500$ Resultados alejados del óptimo desde $N=25$"
   ]
  },
  {
   "cell_type": "markdown",
   "id": "c5a283d71c06b035",
   "metadata": {
    "collapsed": false
   },
   "source": [
    "## Ejercicio 24"
   ]
  },
  {
   "cell_type": "markdown",
   "id": "d6027042",
   "metadata": {},
   "source": [
    "### Brent Function"
   ]
  },
  {
   "cell_type": "markdown",
   "id": "a51c7025",
   "metadata": {},
   "source": [
    "#### Continua, Diferenciable, No Separable, No Escalable, Unimodal"
   ]
  },
  {
   "cell_type": "markdown",
   "id": "69a2ace9",
   "metadata": {},
   "source": [
    "$$\n",
    "f(x)= (x_1+10)^2-(x_2+10)^2+e^{-x_1^2-x_2^2}\n",
    "$$"
   ]
  },
  {
   "cell_type": "markdown",
   "id": "9274dee7",
   "metadata": {},
   "source": [
    "###### sujeto a:"
   ]
  },
  {
   "cell_type": "markdown",
   "id": "a08f598b",
   "metadata": {},
   "source": [
    "$$-10 \\leq x_i \\leq 10$$"
   ]
  },
  {
   "cell_type": "code",
   "execution_count": null,
   "id": "1dc8aa7dfe797090",
   "metadata": {
    "ExecuteTime": {
     "end_time": "2023-12-08T15:36:21.568240900Z",
     "start_time": "2023-12-08T15:36:21.524380Z"
    },
    "collapsed": false
   },
   "outputs": [],
   "source": [
    "Test(fun=fun.BrentFunction,min_value=[-10,-10],d=[1],excercise='24')"
   ]
  },
  {
   "cell_type": "markdown",
   "id": "bafef035",
   "metadata": {},
   "source": [
    "#### Valor esperado"
   ]
  },
  {
   "cell_type": "markdown",
   "id": "16246cfa",
   "metadata": {},
   "source": [
    "$$\n",
    "x^* = (-10,-10)\n",
    "$$"
   ]
  },
  {
   "cell_type": "markdown",
   "id": "496acf53",
   "metadata": {},
   "source": [
    "### Análisis de los resultados:"
   ]
  },
  {
   "cell_type": "markdown",
   "id": "cdc947bf",
   "metadata": {},
   "source": [
    "#### SLSQP:\n",
    "Encontró un mínimo que satisface el conjunto de restricciones y númericamente es el mismo que el esperado (~0), el número de iteraciones es de 2 dado que es una función con derivadas sin mayores complicaciones.\n"
   ]
  },
  {
   "cell_type": "markdown",
   "id": "5ca2da7d",
   "metadata": {},
   "source": [
    "#### L-BFGS-B:\n",
    " En este se encuentran igualmente el óptimo en este caso más rápido como se esperaba por la misma naturaleza del algoritmo al aproximar las derivadas, las cuales no presentan grandes dificultades ni problemas numéricos excepto los ya mencionados . "
   ]
  },
  {
   "cell_type": "markdown",
   "id": "28339440",
   "metadata": {},
   "source": [
    "#### Nelder-Mead: \n",
    "Logró encontrar el óptimo global, dado que esta es la ruta de descenso posible, el número de iteraciones sigue siendo muy alta 74."
   ]
  },
  {
   "cell_type": "markdown",
   "id": "68d33c45012f5dc",
   "metadata": {
    "collapsed": false
   },
   "source": [
    "## Ejercicio 25"
   ]
  },
  {
   "cell_type": "markdown",
   "id": "a7b2d77c",
   "metadata": {},
   "source": [
    "### Brown Function"
   ]
  },
  {
   "cell_type": "markdown",
   "id": "c1ae4a10",
   "metadata": {},
   "source": [
    "Continua, Diferenciable, No Separabe, Escalable, Unimodal"
   ]
  },
  {
   "cell_type": "markdown",
   "id": "bf3b7c70",
   "metadata": {},
   "source": [
    "$$\n",
    "f(x) = \\sum_ {i=1}^n (x_i^2)^{(x_{i+1}^{2}+1)} +(x_{i+1}^2)^{(x_i^{2}+1)}\n",
    "$$"
   ]
  },
  {
   "cell_type": "markdown",
   "id": "b5e66612",
   "metadata": {},
   "source": [
    "###### sujeto a:"
   ]
  },
  {
   "cell_type": "markdown",
   "id": "0e8d2f86",
   "metadata": {},
   "source": [
    "$$\n",
    "-1 \\leq x_i \\leq 4\n",
    "$$"
   ]
  },
  {
   "cell_type": "code",
   "execution_count": null,
   "id": "8f5e9065",
   "metadata": {},
   "outputs": [],
   "source": [
    "Test(fun.BrownFunction,[0 for _ in range(10)],'25')"
   ]
  },
  {
   "cell_type": "markdown",
   "id": "63f5f53c",
   "metadata": {},
   "source": [
    "###### Valor esperado:"
   ]
  },
  {
   "cell_type": "markdown",
   "id": "7f56f721",
   "metadata": {},
   "source": [
    "$$\n",
    "x^{*}=(0,0,....,0)\n",
    "$$"
   ]
  },
  {
   "cell_type": "markdown",
   "id": "ba6a8d06",
   "metadata": {},
   "source": [
    "### Análisis de los resultados:\n"
   ]
  },
  {
   "cell_type": "markdown",
   "id": "608b8a08",
   "metadata": {},
   "source": [
    "#### SLSQP:\n",
    "Tiene problemas para encontrar el óptimo en todos los casos por ejemplo para $N=10$ no devuelve correctamente los valores de los $x_i$ dado que por ejemplo en $x_1$ el valor asignado es 3 el cual está muy \"alejado\" de cero y estos errores se amplifican mientras mayor sea el $N$ de la sumatoria estos errores son debido principalmente a los errores del cálculo cumpatacional y la misma función la cual dado fu forma exponencial presenta grandes facilidades a los errores en el cálculo de derivadas. En cuanto al número de iteraciones  se ve una disminución desde 24 hasta 1 para $N>50$  debido a los errores mencionados anteriormente lo cual lleva a que apartir de estos N no sea fiable los resultados que nos entregan el método.\n"
   ]
  },
  {
   "cell_type": "markdown",
   "id": "d3232028",
   "metadata": {},
   "source": [
    "#### L-BFGS-B:\n",
    " Este algoritmo aunque en un inicio tiene como promedio de valores más fiables que el método anterior, los valores de las variables siguen sin poder cumplir los requisitos de estar en una vecindad de 0, aunque los valores optimos de la función objetivo erán más pequeños que los anteriores los errores de cálculo están presente desde el inicio, volviendo a recalcar lo no común que es la derivada de esta función que al ser ejecutada tal operación en métodos numéricos aumentan las probabilidades de error, para valores de N entorno a 270 empieza dar valores de la función objetivo muy alejados del esperado, los errores acumulados por el alto nivel de variables provoca que no sea recomendado en este caso. "
   ]
  },
  {
   "cell_type": "markdown",
   "id": "fda6a5ed",
   "metadata": {},
   "source": [
    "#### Nelder-Mead: \n",
    "Aunque no contempla las restricciones este método, para valores de N entorno a los 10 entrega resultados aceptables numéricamente, aunque esto es solo si se parte desde vecindades del valor buscado, lo que en la práctica no sería viable dado que en caso de no conocer una región inicial no son fiables los resultados. El número de pasos es muy elevado en comparación con los anteriores."
   ]
  }
 ],
 "metadata": {
  "kernelspec": {
   "display_name": "Python 3",
   "language": "python",
   "name": "python3"
  },
  "language_info": {
   "codemirror_mode": {
    "name": "ipython",
    "version": 3
   },
   "file_extension": ".py",
   "mimetype": "text/x-python",
   "name": "python",
   "nbconvert_exporter": "python",
   "pygments_lexer": "ipython3",
   "version": "3.11.7"
  }
 },
 "nbformat": 4,
 "nbformat_minor": 5
}
